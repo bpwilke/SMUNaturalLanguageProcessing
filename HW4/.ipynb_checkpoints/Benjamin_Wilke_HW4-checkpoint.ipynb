{
 "cells": [
  {
   "cell_type": "markdown",
   "metadata": {},
   "source": [
    "# Benjamin Wilke\n",
    "# Homework 4"
   ]
  },
  {
   "cell_type": "code",
   "execution_count": 47,
   "metadata": {},
   "outputs": [],
   "source": [
    "import matplotlib.pyplot as plt\n",
    "import nltk\n",
    "from nltk.tokenize import word_tokenize\n",
    "from tensorflow.keras import Sequential, Input\n",
    "from tensorflow.keras.layers import add\n",
    "from tensorflow.keras.layers import LSTM, Embedding, Dense, TimeDistributed, Dropout, Bidirectional, Lambda\n",
    "from tensorflow.keras.preprocessing import sequence\n",
    "from tensorflow.keras.callbacks import ModelCheckpoint\n",
    "import numpy as np\n",
    "from sklearn.metrics import confusion_matrix\n",
    "import spacy\n",
    "nlp = spacy.load(\"en_core_web_md\")"
   ]
  },
  {
   "cell_type": "markdown",
   "metadata": {},
   "source": [
    "## Question 1\n",
    "\n",
    "Run one of the part-of-speech (POS) taggers available in Python. \n",
    "\n",
    "Find the longest sentence you can, longer than 10 words, that the POS tagger tags correctly. Show the input and output."
   ]
  },
  {
   "cell_type": "code",
   "execution_count": 52,
   "metadata": {},
   "outputs": [
    {
     "data": {
      "text/plain": [
       "[('He', 'PRP'),\n",
       " ('received', 'VBD'),\n",
       " ('the', 'DT'),\n",
       " ('most', 'RBS'),\n",
       " ('votes', 'NNS'),\n",
       " ('in', 'IN'),\n",
       " ('the', 'DT'),\n",
       " ('first', 'JJ'),\n",
       " ('two', 'CD'),\n",
       " ('states', 'NNS'),\n",
       " ('and', 'CC'),\n",
       " ('is', 'VBZ'),\n",
       " ('considered', 'VBN'),\n",
       " ('a', 'DT'),\n",
       " ('favorite', 'NN'),\n",
       " ('in', 'IN'),\n",
       " ('Nevada', 'NNP')]"
      ]
     },
     "execution_count": 52,
     "metadata": {},
     "output_type": "execute_result"
    }
   ],
   "source": [
    "# https://medium.com/@gianpaul.r/tokenization-and-parts-of-speech-pos-tagging-in-pythons-nltk-library-2d30f70af13b\n",
    "pos_one_long = nltk.pos_tag(word_tokenize(\"He received the most votes in the first two states and is considered a favorite in Nevada\"))\n",
    "pos_one_long"
   ]
  },
  {
   "cell_type": "markdown",
   "metadata": {},
   "source": [
    "Find the shortest sentence you can, shorter than 10 words, that the POS tagger fails to tag 100 percent correctly. Show the input and output. Explain your conjecture as to why the tagger might have been less than perfect with this sentence."
   ]
  },
  {
   "cell_type": "code",
   "execution_count": 63,
   "metadata": {},
   "outputs": [
    {
     "data": {
      "text/plain": [
       "[('Why', 'WRB'),\n",
       " ('would', 'MD'),\n",
       " ('Will', 'VB'),\n",
       " ('walk', 'VB'),\n",
       " ('so', 'RB'),\n",
       " ('weirdly', 'RB'),\n",
       " ('?', '.')]"
      ]
     },
     "execution_count": 63,
     "metadata": {},
     "output_type": "execute_result"
    }
   ],
   "source": [
    "pos_one_short = nltk.pos_tag(word_tokenize(\"Why would Will walk so weirdly?\"))\n",
    "pos_one_short"
   ]
  },
  {
   "cell_type": "markdown",
   "metadata": {},
   "source": [
    "This seems to be getting tripped up around \"would Will walk\":\n",
    "\n",
    "MD -> modal could, will\n",
    "\n",
    "VB -> verb, base form\n",
    "\n",
    "It's mistaken the word Will for a verb versus a proper noun, which is strange considering it's capitalized."
   ]
  },
  {
   "cell_type": "markdown",
   "metadata": {},
   "source": [
    "## Question 2\n",
    "\n",
    "Run a different POS tagger in Python. Process the same two sentences from question 1.\n",
    "\n",
    "Does it produce the same or different output?\n",
    "\n",
    "Explain any differences as best you can."
   ]
  },
  {
   "cell_type": "code",
   "execution_count": 64,
   "metadata": {},
   "outputs": [
    {
     "data": {
      "text/plain": [
       "[(('He', 'PRP'), 'PRON'),\n",
       " (('received', 'VBD'), 'VERB'),\n",
       " (('the', 'DT'), 'DET'),\n",
       " (('most', 'RBS'), 'ADJ'),\n",
       " (('votes', 'NNS'), 'NOUN'),\n",
       " (('in', 'IN'), 'ADP'),\n",
       " (('the', 'DT'), 'DET'),\n",
       " (('first', 'JJ'), 'ADJ'),\n",
       " (('two', 'CD'), 'NUM'),\n",
       " (('states', 'NNS'), 'NOUN'),\n",
       " (('and', 'CC'), 'CCONJ'),\n",
       " (('is', 'VBZ'), 'VERB'),\n",
       " (('considered', 'VBN'), 'VERB'),\n",
       " (('a', 'DT'), 'DET'),\n",
       " (('favorite', 'NN'), 'ADJ'),\n",
       " (('in', 'IN'), 'ADP'),\n",
       " (('Nevada', 'NNP'), 'PROPN')]"
      ]
     },
     "execution_count": 64,
     "metadata": {},
     "output_type": "execute_result"
    }
   ],
   "source": [
    "pos_two_long = [token.pos_ for token in nlp(\"He received the most votes in the first two states and is considered a favorite in Nevada\")]\n",
    "[each for each in list(zip(pos_one_long, pos_two_long))]"
   ]
  },
  {
   "cell_type": "markdown",
   "metadata": {},
   "source": [
    "This is mostly correct. It seems that the spaCy POS tagger is less specific than NLTK. For example - the comparative adjective \"most\" is a special kind of comparative tag, verus merely an adjective. Also - it appears that spaCy miss tagged \"favorite\" here as an adjective when it should be a noun."
   ]
  },
  {
   "cell_type": "code",
   "execution_count": 65,
   "metadata": {},
   "outputs": [
    {
     "data": {
      "text/plain": [
       "[(('Why', 'WRB'), 'ADV'),\n",
       " (('would', 'MD'), 'VERB'),\n",
       " (('Will', 'VB'), 'VERB'),\n",
       " (('walk', 'VB'), 'VERB'),\n",
       " (('so', 'RB'), 'ADV'),\n",
       " (('weirdly', 'RB'), 'ADV'),\n",
       " (('?', '.'), 'PUNCT')]"
      ]
     },
     "execution_count": 65,
     "metadata": {},
     "output_type": "execute_result"
    }
   ],
   "source": [
    "pos_two_short = [token.pos_ for token in nlp(\"Why would Will walk so weirdly?\")]\n",
    "[each for each in list(zip(pos_one_short, pos_two_short))]"
   ]
  },
  {
   "cell_type": "markdown",
   "metadata": {},
   "source": [
    "The spaCy POS tagger also seems to mistake \"Will\" for verb, which is weird as now I'm noticing that both the POS taggers haven't identified a noun in the short sentence."
   ]
  },
  {
   "cell_type": "markdown",
   "metadata": {},
   "source": [
    "## Question 3\n",
    "\n",
    "In a news article from this week’s news, find a random sentence of at least 10 words.\n",
    "\n",
    "Looking at the Penn tag set, manually POS tag the sentence yourself.\n",
    "\n",
    "Now run the same sentences through both taggers that you implemented for questions 1 and 2. Did either of the taggers produce the same results as you had created manually?\n",
    "\n",
    "Explain any differences between the two taggers and your manual tagging as much as you can."
   ]
  },
  {
   "cell_type": "code",
   "execution_count": 75,
   "metadata": {},
   "outputs": [],
   "source": [
    "sentence = \"He is benefiting from male privilege and would not be treated the same if he were a woman.\""
   ]
  },
  {
   "cell_type": "code",
   "execution_count": 76,
   "metadata": {},
   "outputs": [],
   "source": [
    "POS = ['PRP', 'VBZ', 'VGB', 'IN', 'JJ', 'NN', 'CC', 'MD', 'RB', 'VB', 'VBN', 'DT', 'JJ', 'IN', 'PRP', 'VBD', 'DT', 'NN']"
   ]
  },
  {
   "cell_type": "code",
   "execution_count": 77,
   "metadata": {},
   "outputs": [
    {
     "data": {
      "text/plain": [
       "[('He', 'PRP'),\n",
       " ('is', 'VBZ'),\n",
       " ('benefiting', 'VGB'),\n",
       " ('from', 'IN'),\n",
       " ('male', 'JJ'),\n",
       " ('privilege', 'NN'),\n",
       " ('and', 'CC'),\n",
       " ('would', 'MD'),\n",
       " ('not', 'RB'),\n",
       " ('be', 'VB'),\n",
       " ('treated', 'VBN'),\n",
       " ('the', 'DT'),\n",
       " ('same', 'JJ'),\n",
       " ('if', 'IN'),\n",
       " ('he', 'PRP'),\n",
       " ('were', 'VBD'),\n",
       " ('a', 'DT'),\n",
       " ('woman.', 'NN')]"
      ]
     },
     "execution_count": 77,
     "metadata": {},
     "output_type": "execute_result"
    }
   ],
   "source": [
    "[each for each in list(zip(sentence.split(), POS))]"
   ]
  },
  {
   "cell_type": "code",
   "execution_count": 78,
   "metadata": {},
   "outputs": [
    {
     "data": {
      "text/plain": [
       "[('He', 'PRP'),\n",
       " ('is', 'VBZ'),\n",
       " ('benefiting', 'VBG'),\n",
       " ('from', 'IN'),\n",
       " ('male', 'JJ'),\n",
       " ('privilege', 'NN'),\n",
       " ('and', 'CC'),\n",
       " ('would', 'MD'),\n",
       " ('not', 'RB'),\n",
       " ('be', 'VB'),\n",
       " ('treated', 'VBN'),\n",
       " ('the', 'DT'),\n",
       " ('same', 'JJ'),\n",
       " ('if', 'IN'),\n",
       " ('he', 'PRP'),\n",
       " ('were', 'VBD'),\n",
       " ('a', 'DT'),\n",
       " ('woman', 'NN'),\n",
       " ('.', '.')]"
      ]
     },
     "execution_count": 78,
     "metadata": {},
     "output_type": "execute_result"
    }
   ],
   "source": [
    "nltk.pos_tag(word_tokenize(sentence))"
   ]
  },
  {
   "cell_type": "markdown",
   "metadata": {},
   "source": [
    "The NLTK POS tagger was spot on."
   ]
  },
  {
   "cell_type": "code",
   "execution_count": 82,
   "metadata": {},
   "outputs": [
    {
     "data": {
      "text/plain": [
       "[('He', 'PRON'),\n",
       " ('is', 'VERB'),\n",
       " ('benefiting', 'VERB'),\n",
       " ('from', 'ADP'),\n",
       " ('male', 'ADJ'),\n",
       " ('privilege', 'NOUN'),\n",
       " ('and', 'CCONJ'),\n",
       " ('would', 'VERB'),\n",
       " ('not', 'ADV'),\n",
       " ('be', 'VERB'),\n",
       " ('treated', 'VERB'),\n",
       " ('the', 'DET'),\n",
       " ('same', 'ADJ'),\n",
       " ('if', 'ADP'),\n",
       " ('he', 'PRON'),\n",
       " ('were', 'VERB'),\n",
       " ('a', 'DET'),\n",
       " ('woman.', 'NOUN')]"
      ]
     },
     "execution_count": 82,
     "metadata": {},
     "output_type": "execute_result"
    }
   ],
   "source": [
    "[each for each in zip(sentence.split(), [token.pos_ for token in nlp(sentence)])]"
   ]
  },
  {
   "cell_type": "markdown",
   "metadata": {},
   "source": [
    "While not as specific as the NLTK POS tagger the spaCy tagger is also accurate for this fairly simplistic sentence."
   ]
  },
  {
   "cell_type": "markdown",
   "metadata": {},
   "source": [
    "## Question 4\n",
    "\n",
    "Prepare the train.txt Dataset for insertion into a RNN.\n",
    "\n",
    "The data is not in proper format.  Each line lists a word and 4 tags.  Your task is to form the words into sequences and form target sequences as well.\n",
    "\n",
    "Your target is the last (fourth) tag.\n",
    "\n",
    "Sentences are listed vertically.  A blank line indicates a new sentence.  \n",
    "\n",
    "Form the sentences into sequences\n",
    "\n",
    "Form the fourth tag into a sequence of targets.\n",
    "\n",
    "Encode the data to integers.  You will need two dictionaries:\n",
    "\n",
    "Word to integer\n",
    "\n",
    "Target Category to integer\n",
    "\n",
    "You should turn in the functions and code you use to perform this task—I will use them on a hidden dataset to test your success at encoding.  Padding is required—this data should be ready to put into a neural network."
   ]
  },
  {
   "cell_type": "code",
   "execution_count": 4,
   "metadata": {},
   "outputs": [],
   "source": [
    "def load_doc(filename):\n",
    "    file = open(filename, 'r')\n",
    "    text = file.read().splitlines()\n",
    "    file.close()\n",
    "    return text"
   ]
  },
  {
   "cell_type": "code",
   "execution_count": 5,
   "metadata": {},
   "outputs": [],
   "source": [
    "raw_doc = load_doc(\"train.txt\")                                           #<-- load raw doc\n",
    "blank_lines = [idx for idx, each in enumerate(raw_doc) if each == '']     #<-- get index of each blank line"
   ]
  },
  {
   "cell_type": "code",
   "execution_count": 6,
   "metadata": {},
   "outputs": [],
   "source": [
    "# parses raw doc to return raw words and targets\n",
    "def getSentencesTargets(doc, blank_lines):\n",
    "    sentences = list()\n",
    "    targets = list()\n",
    "    \n",
    "    start_index = 0                                        #<-- start at index 0\n",
    "    end_index = blank_lines[0]                             #<-- set first end_index\n",
    "\n",
    "    for current_blank in range(len(blank_lines)):\n",
    "        sent_words = [word.split()[0].lower() for word in raw_doc[start_index:end_index]] #<-- isolate each word in the raw_doc range, lower()\n",
    "        sentences.append(sent_words)                                                      #<-- append sentence\n",
    "        target_classes = [word.split()[-1] for word in raw_doc[start_index:end_index]]    #<-- isolate each target in the raw_doc\n",
    "        targets.append(target_classes)                                                    #<-- append target\n",
    "        start_index = end_index + 1                        #<-- set next start_index, to last end_index + 1 (next line)\n",
    "        if current_blank < len(blank_lines) - 1:           #<-- if we're not at the end of the list (protect from out of range)\n",
    "            end_index = blank_lines[current_blank + 1]     #<-- then the new end_index is equal to next new end\n",
    "            \n",
    "    return sentences, targets            "
   ]
  },
  {
   "cell_type": "code",
   "execution_count": 2,
   "metadata": {},
   "outputs": [],
   "source": [
    "# function returns true if any character in a string is a number \n",
    "def hasNumbers(inputString):\n",
    "    return any(char.isdigit() for char in inputString)"
   ]
  },
  {
   "cell_type": "code",
   "execution_count": 3,
   "metadata": {},
   "outputs": [],
   "source": [
    "# cleans raw words and targets to remove non-words while also removing corresponding non-word targets\n",
    "def cleanSentencesTarget(sentences, targets):\n",
    "    remove_list = ['.',',','$','(',')','\\'s','\\\"',':','-','/','--','\\'',';']      #<-- specific characters we want to remove\n",
    "    \n",
    "    clean_sentences = list()\n",
    "    clean_targets = list()\n",
    "    \n",
    "    for sentence in range(len(sentences)):                      #<-- for each sentence\n",
    "        current_sentence = list()\n",
    "        current_target = list()                  \n",
    "        for idx, word in enumerate(sentences[sentence]):        #<-- examine each word\n",
    "            if word not in remove_list and not hasNumbers(word):#<-- if not in remove list or contains number\n",
    "                current_sentence.append(word)                   #<-- add word to current_sentence\n",
    "                current_target.append(targets[sentence][idx])   #<-- add corresponding target to current_target\n",
    "        if len(current_sentence) > 0:                           #<-- only add the current sentence if it's not null\n",
    "            clean_sentences.append(current_sentence)            #<-- append cleaned sentence \n",
    "            clean_targets.append(current_target)                #<-- append corresponding targets\n",
    "    \n",
    "    return clean_sentences, clean_targets"
   ]
  },
  {
   "cell_type": "code",
   "execution_count": 7,
   "metadata": {},
   "outputs": [],
   "source": [
    "# parse raw sentence and target lists\n",
    "sentences, targets = getSentencesTargets(raw_doc, blank_lines)\n",
    "\n",
    "# clean sentence and target lists\n",
    "clean_sentences, clean_targets = cleanSentencesTarget(sentences, targets)"
   ]
  },
  {
   "cell_type": "code",
   "execution_count": 8,
   "metadata": {},
   "outputs": [],
   "source": [
    "def getWordCounts(sentences):\n",
    "    word_counts = {}\n",
    "    for sent in sentences:\n",
    "        for w in sent:\n",
    "            word_counts[w] = word_counts.get(w, 0) + 1\n",
    "    return word_counts"
   ]
  },
  {
   "cell_type": "code",
   "execution_count": 9,
   "metadata": {},
   "outputs": [],
   "source": [
    "# get dictionary of all words and corresponding occurance counts\n",
    "word_counts = getWordCounts(clean_sentences)"
   ]
  },
  {
   "cell_type": "code",
   "execution_count": 10,
   "metadata": {},
   "outputs": [],
   "source": [
    "# create our word to index & index to word mapping \n",
    "def createWord2IndexIndex2Word(word_counts, word_count_threshold):\n",
    "    vocab = [w for w in word_counts if word_counts[w] >= word_count_threshold]\n",
    "    idxtoword = dict(enumerate(vocab, 3))\n",
    "    idxtoword[0] = '<PAD>'\n",
    "    idxtoword[1] = '<UNK>'\n",
    "    idxtoword[2] = '<START>'\n",
    "    wordtoix = dict([(value, key) for (key, value) in idxtoword.items()])\n",
    "    return wordtoix, idxtoword"
   ]
  },
  {
   "cell_type": "code",
   "execution_count": 41,
   "metadata": {},
   "outputs": [],
   "source": [
    "# create our target (Y) category mapping\n",
    "def createTarget2CategoryIndex(targets):\n",
    "    unique_targets = list()\n",
    "    for target in targets:                                                      #<-- get a list of all eligible target values\n",
    "        for each in target:\n",
    "            unique_targets.append(each)\n",
    "    targettoix = {k:idx + 1 for idx, k in enumerate(list(set(unique_targets)))} #<-- saves room for <PAD> at 0\n",
    "    targettoix[\"<PAD>\"] = 0                                                     #<-- creates <PAD> at 0\n",
    "    idxtotarget = dict([(value, key) for (key, value) in targettoix.items()])\n",
    "    return targettoix, idxtotarget"
   ]
  },
  {
   "cell_type": "code",
   "execution_count": 42,
   "metadata": {},
   "outputs": [],
   "source": [
    "# create our word to index & index to word mapping - include all words since most of our Named Entities don't occur very often\n",
    "wordToIndex, indexToWord = createWord2IndexIndex2Word(word_counts, 1)\n",
    "\n",
    "# create our target (Y) category mapping\n",
    "targetToIndex, IndexToTarget = createTarget2CategoryIndex(clean_targets)"
   ]
  },
  {
   "cell_type": "code",
   "execution_count": 13,
   "metadata": {},
   "outputs": [],
   "source": [
    "# returns sequence of index from word sentence input, if word doesn't exist sets to 1\n",
    "def sequenceFromSentenceList(sentence):\n",
    "    return [wordToIndex[word] if word in wordToIndex.keys() else 1 for word in sentence]"
   ]
  },
  {
   "cell_type": "code",
   "execution_count": 14,
   "metadata": {},
   "outputs": [],
   "source": [
    "# returns sequence of words from index sentence input\n",
    "def sentenceFromSequenceList(sequence):\n",
    "    return [indexToWord[idx] for idx in sequence]"
   ]
  },
  {
   "cell_type": "code",
   "execution_count": 15,
   "metadata": {},
   "outputs": [],
   "source": [
    "# return sequence of target index from target sequence\n",
    "def sequenceFromTargetSequence(targetsequence):\n",
    "    return [targetToIndex[target] for target in targetsequence]"
   ]
  },
  {
   "cell_type": "code",
   "execution_count": 16,
   "metadata": {},
   "outputs": [],
   "source": [
    "# let's encode our X and Y\n",
    "X_data = [sequenceFromSentenceList(sent) for sent in clean_sentences]\n",
    "y_data = [sequenceFromTargetSequence(target) for target in clean_targets]"
   ]
  },
  {
   "cell_type": "code",
   "execution_count": 17,
   "metadata": {},
   "outputs": [
    {
     "name": "stdout",
     "output_type": "stream",
     "text": [
      "The largest sequence length is: 75\n"
     ]
    },
    {
     "data": {
      "image/png": "[encoded data removed]",
      "text/plain": [
       "<Figure size 432x288 with 1 Axes>"
      ]
     },
     "metadata": {
      "needs_background": "light"
     },
     "output_type": "display_data"
    }
   ],
   "source": [
    "# lets look at sequence length\n",
    "seq_length = [len(sent) for sent in clean_sentences]\n",
    "print(\"The largest sequence length is: {}\".format(max(seq_length)))\n",
    "plt.hist(seq_length)\n",
    "plt.show()"
   ]
  },
  {
   "cell_type": "code",
   "execution_count": 18,
   "metadata": {},
   "outputs": [],
   "source": [
    "max_seq_length = 35\n",
    "# now let's pad out X_data and Y_data\n",
    "X = sequence.pad_sequences(X_data, maxlen=max_seq_length)\n",
    "y = sequence.pad_sequences(y_data, maxlen=max_seq_length)"
   ]
  },
  {
   "cell_type": "markdown",
   "metadata": {},
   "source": [
    "## Let's Model"
   ]
  },
  {
   "cell_type": "code",
   "execution_count": 21,
   "metadata": {},
   "outputs": [],
   "source": [
    "embedding_vector_length = 100\n",
    "vocabulary_size = len(wordToIndex)\n",
    "n_tags = len(targetToIndex)\n",
    "\n",
    "model = Sequential()\n",
    "model.add(Embedding(vocabulary_size, embedding_vector_length, input_length=max_seq_length, mask_zero=True))\n",
    "model.add(LSTM(units=500, return_sequences=True, recurrent_dropout=0.25, dropout=0.25))\n",
    "model.add(TimeDistributed(Dense(n_tags, activation=\"softmax\")))\n",
    "model.compile(optimizer=\"adam\", loss=\"sparse_categorical_crossentropy\", metrics=[\"accuracy\"])"
   ]
  },
  {
   "cell_type": "code",
   "execution_count": 20,
   "metadata": {},
   "outputs": [
    {
     "name": "stdout",
     "output_type": "stream",
     "text": [
      "Model: \"sequential\"\n",
      "_________________________________________________________________\n",
      "Layer (type)                 Output Shape              Param #   \n",
      "=================================================================\n",
      "embedding (Embedding)        (None, 35, 100)           1715300   \n",
      "_________________________________________________________________\n",
      "lstm (LSTM)                  (None, 35, 500)           1202000   \n",
      "_________________________________________________________________\n",
      "time_distributed (TimeDistri (None, 35, 10)            5010      \n",
      "=================================================================\n",
      "Total params: 2,922,310\n",
      "Trainable params: 2,922,310\n",
      "Non-trainable params: 0\n",
      "_________________________________________________________________\n"
     ]
    }
   ],
   "source": [
    "model.summary()"
   ]
  },
  {
   "cell_type": "code",
   "execution_count": 22,
   "metadata": {},
   "outputs": [],
   "source": [
    "X_train, X_val = X[4000:], X[:4000]\n",
    "y_train, y_val = y[4000:], y[:4000]"
   ]
  },
  {
   "cell_type": "code",
   "execution_count": 26,
   "metadata": {},
   "outputs": [],
   "source": [
    "checkpoint = ModelCheckpoint('FirstTimeDistributedModel.h5', monitor='val_accuracy', verbose=1, save_best_only=True, mode='max')"
   ]
  },
  {
   "cell_type": "code",
   "execution_count": 27,
   "metadata": {},
   "outputs": [
    {
     "name": "stdout",
     "output_type": "stream",
     "text": [
      "Train on 10724 samples, validate on 4000 samples\n",
      "Epoch 1/3\n",
      "10720/10724 [============================>.] - ETA: 0s - loss: 0.1641 - accuracy: 0.8439\n",
      "Epoch 00001: val_accuracy improved from -inf to 0.88843, saving model to FirstTimeDistributedModel.h5\n",
      "10724/10724 [==============================] - 531s 49ms/sample - loss: 0.1640 - accuracy: 0.8440 - val_loss: 0.1076 - val_accuracy: 0.8884\n",
      "Epoch 2/3\n",
      "10720/10724 [============================>.] - ETA: 0s - loss: 0.0561 - accuracy: 0.9460\n",
      "Epoch 00002: val_accuracy improved from 0.88843 to 0.92187, saving model to FirstTimeDistributedModel.h5\n",
      "10724/10724 [==============================] - 435s 41ms/sample - loss: 0.0561 - accuracy: 0.9460 - val_loss: 0.0819 - val_accuracy: 0.9219\n",
      "Epoch 3/3\n",
      "10720/10724 [============================>.] - ETA: 0s - loss: 0.0324 - accuracy: 0.9677\n",
      "Epoch 00003: val_accuracy improved from 0.92187 to 0.92495, saving model to FirstTimeDistributedModel.h5\n",
      "10724/10724 [==============================] - 418s 39ms/sample - loss: 0.0324 - accuracy: 0.9677 - val_loss: 0.0808 - val_accuracy: 0.9250\n"
     ]
    }
   ],
   "source": [
    "history = model.fit(X_train, y_train, validation_data=(X_val, y_val), callbacks=[checkpoint], batch_size=8, epochs=3, shuffle=True, verbose=1)"
   ]
  },
  {
   "cell_type": "code",
   "execution_count": 28,
   "metadata": {},
   "outputs": [],
   "source": [
    "what = model.predict_classes(X_val)"
   ]
  },
  {
   "cell_type": "code",
   "execution_count": 33,
   "metadata": {},
   "outputs": [],
   "source": [
    "#use this cell to EXCLUDE padding from confusion matrix\n",
    "count = 0\n",
    "total = 0\n",
    "pred = []\n",
    "actual = []\n",
    "\n",
    "for prediction in range(what.shape[0]):                        #<-- for each sequence\n",
    "    for i in range(max_seq_length):                            #<-- each item in sequence\n",
    "        if y_val[prediction][i]==0:                            #<-- if the corresponding y_val is <PAD> skip it\n",
    "            pass\n",
    "        else:                                                  #<-- otherwise\n",
    "            if y_val[prediction][i]==what[prediction][i]:      #<-- compare the prediction to y_val\n",
    "                count = count+1                                #<-- if the same increment count\n",
    "            total=total+1                                      #<-- update total eligible predictions (not <PAD>)\n",
    "            pred.append(what[prediction][i])                   #<-- add the prediction to list\n",
    "            actual.append(y_val[prediction][i])                #<-- add corresponding actual to a list"
   ]
  },
  {
   "cell_type": "code",
   "execution_count": 44,
   "metadata": {},
   "outputs": [
    {
     "name": "stdout",
     "output_type": "stream",
     "text": [
      "Confusion matrix, without normalization\n",
      "[[  881    51    64     0   382    17     2    24    76]\n",
      " [   37   710    37     5   154     1     0     6     8]\n",
      " [  121     9  1792     0   214     7     6    14    45]\n",
      " [    0    11     2   181   117     1     1     8     0]\n",
      " [  136    19    15    15 31457    27     6    83    97]\n",
      " [   11     0     7     0   162  1267     0    22    30]\n",
      " [    2     0     9     1    63     9   180    35     2]\n",
      " [   31     8    29     7   361    21     7   396     7]\n",
      " [   79     1    11     0   313    47     4    14  1479]]\n",
      "Normalized confusion matrix\n",
      "[[5.89e-01 3.41e-02 4.28e-02 0.00e+00 2.55e-01 1.14e-02 1.34e-03 1.60e-02\n",
      "  5.08e-02]\n",
      " [3.86e-02 7.41e-01 3.86e-02 5.22e-03 1.61e-01 1.04e-03 0.00e+00 6.26e-03\n",
      "  8.35e-03]\n",
      " [5.48e-02 4.08e-03 8.12e-01 0.00e+00 9.69e-02 3.17e-03 2.72e-03 6.34e-03\n",
      "  2.04e-02]\n",
      " [0.00e+00 3.43e-02 6.23e-03 5.64e-01 3.64e-01 3.12e-03 3.12e-03 2.49e-02\n",
      "  0.00e+00]\n",
      " [4.27e-03 5.96e-04 4.71e-04 4.71e-04 9.88e-01 8.48e-04 1.88e-04 2.61e-03\n",
      "  3.05e-03]\n",
      " [7.34e-03 0.00e+00 4.67e-03 0.00e+00 1.08e-01 8.45e-01 0.00e+00 1.47e-02\n",
      "  2.00e-02]\n",
      " [6.64e-03 0.00e+00 2.99e-02 3.32e-03 2.09e-01 2.99e-02 5.98e-01 1.16e-01\n",
      "  6.64e-03]\n",
      " [3.58e-02 9.23e-03 3.34e-02 8.07e-03 4.16e-01 2.42e-02 8.07e-03 4.57e-01\n",
      "  8.07e-03]\n",
      " [4.06e-02 5.13e-04 5.65e-03 0.00e+00 1.61e-01 2.41e-02 2.05e-03 7.19e-03\n",
      "  7.59e-01]]\n"
     ]
    },
    {
     "data": {
      "image/png": "[encoded data removed]",
      "text/plain": [
       "<Figure size 1440x720 with 2 Axes>"
      ]
     },
     "metadata": {
      "needs_background": "light"
     },
     "output_type": "display_data"
    },
    {
     "data": {
      "image/png": "[encoded data removed]",
      "text/plain": [
       "<Figure size 1440x720 with 2 Axes>"
      ]
     },
     "metadata": {
      "needs_background": "light"
     },
     "output_type": "display_data"
    }
   ],
   "source": [
    "def plot_confusion_matrix(cm, title='Confusion matrix', cmap=plt.cm.Blues):\n",
    "    plt.imshow(cm, interpolation='nearest', cmap=cmap)\n",
    "    plt.title(title)\n",
    "    plt.colorbar()\n",
    "    all_val = list(set(actual+pred))\n",
    "    tick_marks = np.arange(len(all_val))\n",
    "    plt.xticks(tick_marks,[IndexToTarget[i] for i in all_val], rotation=45)\n",
    "    plt.yticks(tick_marks,[IndexToTarget[i] for i in all_val])\n",
    "    plt.tight_layout()\n",
    "    plt.ylabel('True label')\n",
    "    plt.xlabel('Predicted label')\n",
    "\n",
    "\n",
    "# Compute confusion matrix\n",
    "cm = confusion_matrix(actual, pred)\n",
    "\n",
    "\n",
    "np.set_printoptions(precision=2)\n",
    "print('Confusion matrix, without normalization')\n",
    "print(cm)\n",
    "plt.figure(figsize=(20,10))\n",
    "plot_confusion_matrix(cm)\n",
    "\n",
    "# Normalize the confusion matrix by row (i.e by the number of samples\n",
    "# in each class)\n",
    "cm_normalized = cm.astype('float') / cm.sum(axis=1)[:, np.newaxis]\n",
    "print('Normalized confusion matrix')\n",
    "print(cm_normalized)\n",
    "plt.figure(figsize=(20,10))\n",
    "plot_confusion_matrix(cm_normalized, title='Normalized confusion matrix')\n",
    "from matplotlib.pyplot import figure\n",
    "\n",
    "plt.show()"
   ]
  }
 ],
 "metadata": {
  "kernelspec": {
   "display_name": "NLPTF2",
   "language": "python",
   "name": "nlptf2"
  },
  "language_info": {
   "codemirror_mode": {
    "name": "ipython",
    "version": 3
   },
   "file_extension": ".py",
   "mimetype": "text/x-python",
   "name": "python",
   "nbconvert_exporter": "python",
   "pygments_lexer": "ipython3",
   "version": "3.6.10"
  }
 },
 "nbformat": 4,
 "nbformat_minor": 2
}
