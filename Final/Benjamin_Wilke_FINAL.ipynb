{
 "cells": [
  {
   "cell_type": "markdown",
   "metadata": {},
   "source": [
    "# Benjamin Wilke\n",
    "# NLP Final Exam"
   ]
  },
  {
   "attachments": {},
   "cell_type": "markdown",
   "metadata": {},
   "source": [
    "PART I\n",
    "Given the GOP twitter dataset (a dataset of tweets from 2012 with 3 sentiments—see the attached file):\n",
    "\n",
    "1. Build a model the predict the sentiment of the tweet based on a sequence of characters\n",
    "\n",
    "2. Build a second model based on a sequence of bi-grams (2-letter sequences).\n",
    "\n",
    "Please include ALL the code you used to develop this model."
   ]
  },
  {
   "cell_type": "code",
   "execution_count": 1,
   "metadata": {},
   "outputs": [],
   "source": [
    "import csv\n",
    "from collections import Counter\n",
    "import matplotlib.pyplot as plt\n",
    "from tensorflow.keras.preprocessing import sequence\n",
    "from tensorflow.keras import Sequential, Input\n",
    "from tensorflow.keras.layers import LSTM, Embedding, Dense, Dropout\n",
    "from tensorflow.keras.callbacks import ModelCheckpoint\n",
    "from tensorflow.keras.utils import to_categorical\n",
    "import numpy as np\n",
    "import re"
   ]
  },
  {
   "cell_type": "markdown",
   "metadata": {},
   "source": [
    "## Prep Data for Character Sequence Model"
   ]
  },
  {
   "cell_type": "code",
   "execution_count": 2,
   "metadata": {},
   "outputs": [],
   "source": [
    "rawTweets = list()    # initialize list of lists for each row in my file\n",
    "\n",
    "with open('final.csv', newline='') as f:\n",
    "    reader = csv.reader(f)\n",
    "    for row in reader:\n",
    "        rawTweets.append(row)\n",
    "        \n",
    "rawTweets = rawTweets[1:]  # pop off the header row"
   ]
  },
  {
   "cell_type": "code",
   "execution_count": 3,
   "metadata": {},
   "outputs": [
    {
     "name": "stdout",
     "output_type": "stream",
     "text": [
      "Length of labels is: 13871\n"
     ]
    }
   ],
   "source": [
    "# extract labels from each row\n",
    "labels = [each[1] for each in rawTweets]\n",
    "print(\"Length of labels is: {}\".format(len(labels)))"
   ]
  },
  {
   "cell_type": "code",
   "execution_count": 20,
   "metadata": {},
   "outputs": [],
   "source": [
    "# extract Tweet from each row, removing pesky linebreaks and carriage returns\n",
    "# let's also clean up some other stuff that is going to be REALLY noisy for this exercise\n",
    "\n",
    "cleanText = list()\n",
    "\n",
    "for each in rawTweets:\n",
    "    tweet = each[2]\n",
    "    tweet = tweet.replace(\"\\n\", \"\")  # remove linebreak\n",
    "    tweet = tweet.replace(\"\\r\", \"\")  # remove carriage return\n",
    "    if \"RT @\" in tweet:              # let's also remove RT + Twitter Usernames as these probably don't provide any predictive value\n",
    "        idx = tweet.find(': ')\n",
    "        tweet = tweet[idx + 2:]           # this only removes the first instance of a reTweet, and there can be more than one, but it's a start\n",
    "    tweet = re.sub(r\"http\\S+\", \"\", tweet) # remove URLs\n",
    "    tweet = tweet.replace(\" \", \"\")        # remove spaces. I was on the fence about this, but I think it's actually noisy\n",
    "                                          # considering character and bigram sequences - especially how odd bigrams can be formed with space combinations\n",
    "    tweet = tweet.replace(\"\\\"\", \"\")       # strip quotes because they are also pretty random and noisy\n",
    "    cleanText.append(tweet.strip())       # strip off trailing whitespace and add to our cleanText list"
   ]
  },
  {
   "cell_type": "code",
   "execution_count": 23,
   "metadata": {},
   "outputs": [
    {
     "data": {
      "text/plain": [
       "\"IhatethephraseIjustcan'tbutI'mprettyclosetofeelingthatwayaboutthisGodquestion.#GOPDebate\""
      ]
     },
     "execution_count": 23,
     "metadata": {},
     "output_type": "execute_result"
    }
   ],
   "source": [
    "cleanText[703]"
   ]
  },
  {
   "cell_type": "code",
   "execution_count": 6,
   "metadata": {},
   "outputs": [
    {
     "name": "stdout",
     "output_type": "stream",
     "text": [
      "Length of raw text is: 13871\n"
     ]
    }
   ],
   "source": [
    "print(\"Length of raw text is: {}\".format(len(cleanText)))"
   ]
  },
  {
   "cell_type": "code",
   "execution_count": 29,
   "metadata": {},
   "outputs": [],
   "source": [
    "characterCounter = Counter()"
   ]
  },
  {
   "cell_type": "code",
   "execution_count": 30,
   "metadata": {},
   "outputs": [],
   "source": [
    "# create Counter of each character in each Tweet across all Tweets\n",
    "for tweet in cleanText:\n",
    "    for char in tweet:\n",
    "        characterCounter[char] += 1"
   ]
  },
  {
   "cell_type": "code",
   "execution_count": 31,
   "metadata": {},
   "outputs": [
    {
     "data": {
      "text/plain": [
       "Counter({'H': 2804,\n",
       "         'o': 68747,\n",
       "         'w': 16235,\n",
       "         'd': 33605,\n",
       "         'i': 60214,\n",
       "         'e': 130519,\n",
       "         'v': 7620,\n",
       "         'r': 50823,\n",
       "         'y': 17878,\n",
       "         'n': 61512,\n",
       "         'f': 13806,\n",
       "         'l': 39007,\n",
       "         'a': 86748,\n",
       "         'b': 29378,\n",
       "         'u': 28996,\n",
       "         't': 91072,\n",
       "         'h': 40222,\n",
       "         'C': 5600,\n",
       "         'm': 24535,\n",
       "         'g': 19762,\n",
       "         'q': 1040,\n",
       "         's': 60340,\n",
       "         '?': 2890,\n",
       "         'E': 2406,\n",
       "         'x': 3165,\n",
       "         'c': 22468,\n",
       "         '.': 13886,\n",
       "         '#': 21643,\n",
       "         'G': 17361,\n",
       "         'O': 18215,\n",
       "         'P': 17745,\n",
       "         'D': 18119,\n",
       "         \"'\": 5653,\n",
       "         'S': 4293,\n",
       "         '9': 194,\n",
       "         '0': 1187,\n",
       "         'W': 3731,\n",
       "         'k': 10597,\n",
       "         '1': 1405,\n",
       "         '6': 709,\n",
       "         'N': 3780,\n",
       "         'T': 8864,\n",
       "         'R': 3956,\n",
       "         'F': 4125,\n",
       "         '-': 1747,\n",
       "         'j': 1542,\n",
       "         'p': 19606,\n",
       "         '…': 2307,\n",
       "         '/': 333,\n",
       "         '@': 6475,\n",
       "         '2': 1120,\n",
       "         'z': 1450,\n",
       "         ':': 1950,\n",
       "         'I': 6227,\n",
       "         'B': 3726,\n",
       "         'M': 2795,\n",
       "         'L': 2248,\n",
       "         'A': 4019,\n",
       "         ',': 5159,\n",
       "         '!': 2282,\n",
       "         'J': 1523,\n",
       "         'U': 1221,\n",
       "         '_': 211,\n",
       "         '3': 292,\n",
       "         '7': 166,\n",
       "         '%': 94,\n",
       "         '&': 1143,\n",
       "         ';': 1240,\n",
       "         '“': 145,\n",
       "         '*': 131,\n",
       "         '(': 249,\n",
       "         'V': 621,\n",
       "         '8': 159,\n",
       "         ')': 279,\n",
       "         'K': 1458,\n",
       "         '’': 253,\n",
       "         '$': 87,\n",
       "         'Y': 1145,\n",
       "         '5': 300,\n",
       "         '\\U000fe4e6': 4,\n",
       "         '👉': 5,\n",
       "         '4': 275,\n",
       "         '”': 109,\n",
       "         'X': 426,\n",
       "         '=': 77,\n",
       "         '😒': 4,\n",
       "         '+': 34,\n",
       "         '📢': 12,\n",
       "         '➡': 4,\n",
       "         '️': 30,\n",
       "         '🇺': 1830,\n",
       "         '🇸': 1830,\n",
       "         '☑': 3,\n",
       "         'Q': 121,\n",
       "         'Z': 80,\n",
       "         '🎀': 3,\n",
       "         '–': 15,\n",
       "         '😆': 3,\n",
       "         '》': 3,\n",
       "         '—': 27,\n",
       "         'ٌ': 2,\n",
       "         '▀': 4,\n",
       "         '█': 2,\n",
       "         '|': 35,\n",
       "         '😊': 5,\n",
       "         '😰': 1,\n",
       "         '👍': 12,\n",
       "         '🏼': 16,\n",
       "         '😎': 5,\n",
       "         '😂': 94,\n",
       "         '😩': 6,\n",
       "         '~': 17,\n",
       "         '\\xa0': 7,\n",
       "         '🐘': 7,\n",
       "         '😴': 7,\n",
       "         '→': 4,\n",
       "         '[': 36,\n",
       "         ']': 36,\n",
       "         '😏': 6,\n",
       "         '😕': 3,\n",
       "         '📷': 1,\n",
       "         '✔': 3,\n",
       "         '😶': 3,\n",
       "         '⁰': 1,\n",
       "         '‘': 16,\n",
       "         '💢': 2,\n",
       "         '🙌': 10,\n",
       "         '·': 8,\n",
       "         '↓': 2,\n",
       "         '❤': 14,\n",
       "         '😳': 1,\n",
       "         '😀': 6,\n",
       "         '👓': 1,\n",
       "         '🍺': 3,\n",
       "         '😜': 2,\n",
       "         '¯': 4,\n",
       "         '\\\\': 2,\n",
       "         'ツ': 2,\n",
       "         '‼': 4,\n",
       "         '😍': 4,\n",
       "         '`': 2,\n",
       "         '・': 9,\n",
       "         '😭': 6,\n",
       "         '😉': 4,\n",
       "         'ə': 2,\n",
       "         'ˈ': 1,\n",
       "         'ˌ': 1,\n",
       "         'ā': 1,\n",
       "         '😐': 1,\n",
       "         '🎤': 2,\n",
       "         '😞': 2,\n",
       "         '😄': 7,\n",
       "         '🍷': 1,\n",
       "         '»': 14,\n",
       "         '💧': 1,\n",
       "         '🌷': 1,\n",
       "         '⚡': 1,\n",
       "         '�': 2,\n",
       "         '👏': 12,\n",
       "         '💀': 8,\n",
       "         '💁': 2,\n",
       "         '🏽': 1,\n",
       "         '🏾': 5,\n",
       "         '🎪': 1,\n",
       "         '👎': 13,\n",
       "         '💩': 1,\n",
       "         '↑': 1,\n",
       "         '✅': 4,\n",
       "         '☢': 2,\n",
       "         '►': 2,\n",
       "         '^': 3,\n",
       "         '👌': 3,\n",
       "         '⬇': 1,\n",
       "         '⬆': 2,\n",
       "         '↔': 1,\n",
       "         '💥': 2,\n",
       "         '🙏': 2,\n",
       "         '🗽': 1,\n",
       "         '😋': 1,\n",
       "         '😑': 4,\n",
       "         '😁': 2,\n",
       "         '🏻': 18,\n",
       "         '✯': 4,\n",
       "         '😢': 1,\n",
       "         '🐍': 1,\n",
       "         '•': 4,\n",
       "         '🙈': 2,\n",
       "         '♀': 1,\n",
       "         '😬': 1,\n",
       "         '😯': 1,\n",
       "         '😲': 1,\n",
       "         '☞': 2,\n",
       "         '☜': 2,\n",
       "         '🌍': 1,\n",
       "         '📲': 1,\n",
       "         '🎉': 2,\n",
       "         '💛': 1,\n",
       "         '―': 1,\n",
       "         '🔥': 2,\n",
       "         '\\U000fe320': 1,\n",
       "         '\\U000fe327': 1,\n",
       "         '😠': 1,\n",
       "         '💪': 1,\n",
       "         '🔪': 1,\n",
       "         '🔇': 1,\n",
       "         '⇒': 1,\n",
       "         '🚀': 1,\n",
       "         '😡': 7,\n",
       "         '👋': 1,\n",
       "         '🙊': 1,\n",
       "         '👭': 2,\n",
       "         '👸': 1,\n",
       "         '👑': 1,\n",
       "         '🏿': 7,\n",
       "         '😻': 1,\n",
       "         '👴': 3,\n",
       "         '👨': 2,\n",
       "         '👶': 2,\n",
       "         '👺': 1,\n",
       "         '💰': 1,\n",
       "         '💸': 1,\n",
       "         '🚷': 1,\n",
       "         '🚺': 1,\n",
       "         '🔫': 1,\n",
       "         '🍔': 1,\n",
       "         '💣': 1,\n",
       "         '🛃': 1,\n",
       "         '🚧': 1,\n",
       "         '🚔': 1,\n",
       "         '🔨': 3,\n",
       "         '\\U000fe4ec': 2,\n",
       "         '✋': 2,\n",
       "         '👊': 2,\n",
       "         '💨': 32,\n",
       "         '👀': 1,\n",
       "         'î': 1,\n",
       "         'ł': 1,\n",
       "         'é': 1,\n",
       "         'à': 1})"
      ]
     },
     "execution_count": 31,
     "metadata": {},
     "output_type": "execute_result"
    }
   ],
   "source": [
    "characterCounter"
   ]
  },
  {
   "cell_type": "code",
   "execution_count": 32,
   "metadata": {},
   "outputs": [
    {
     "name": "stdout",
     "output_type": "stream",
     "text": [
      "Total Characters is: 239\n"
     ]
    }
   ],
   "source": [
    "print(\"Total Characters is: {}\".format(len(characterCounter)))"
   ]
  },
  {
   "cell_type": "code",
   "execution_count": 33,
   "metadata": {},
   "outputs": [],
   "source": [
    "# create characterToIdx dict\n",
    "characterToIdx = dict()\n",
    "\n",
    "# add required entries for NLP tasks\n",
    "characterToIdx['<<PAD>>'] = 0\n",
    "characterToIdx['<<UNK>>'] = 1\n",
    "\n",
    "currentIdx = 2\n",
    "characterThreshold = 3\n",
    "\n",
    "for char in characterCounter.keys():\n",
    "    if characterCounter[char] > characterThreshold:    # only include characters that appear more than 5 times\n",
    "        characterToIdx[char] = currentIdx              # set character index\n",
    "        currentIdx += 1                                # increment index"
   ]
  },
  {
   "cell_type": "code",
   "execution_count": 34,
   "metadata": {},
   "outputs": [
    {
     "data": {
      "text/plain": [
       "{'<<PAD>>': 0,\n",
       " '<<UNK>>': 1,\n",
       " 'H': 2,\n",
       " 'o': 3,\n",
       " 'w': 4,\n",
       " 'd': 5,\n",
       " 'i': 6,\n",
       " 'e': 7,\n",
       " 'v': 8,\n",
       " 'r': 9,\n",
       " 'y': 10,\n",
       " 'n': 11,\n",
       " 'f': 12,\n",
       " 'l': 13,\n",
       " 'a': 14,\n",
       " 'b': 15,\n",
       " 'u': 16,\n",
       " 't': 17,\n",
       " 'h': 18,\n",
       " 'C': 19,\n",
       " 'm': 20,\n",
       " 'g': 21,\n",
       " 'q': 22,\n",
       " 's': 23,\n",
       " '?': 24,\n",
       " 'E': 25,\n",
       " 'x': 26,\n",
       " 'c': 27,\n",
       " '.': 28,\n",
       " '#': 29,\n",
       " 'G': 30,\n",
       " 'O': 31,\n",
       " 'P': 32,\n",
       " 'D': 33,\n",
       " \"'\": 34,\n",
       " 'S': 35,\n",
       " '9': 36,\n",
       " '0': 37,\n",
       " 'W': 38,\n",
       " 'k': 39,\n",
       " '1': 40,\n",
       " '6': 41,\n",
       " 'N': 42,\n",
       " 'T': 43,\n",
       " 'R': 44,\n",
       " 'F': 45,\n",
       " '-': 46,\n",
       " 'j': 47,\n",
       " 'p': 48,\n",
       " '…': 49,\n",
       " '/': 50,\n",
       " '@': 51,\n",
       " '2': 52,\n",
       " 'z': 53,\n",
       " ':': 54,\n",
       " 'I': 55,\n",
       " 'B': 56,\n",
       " 'M': 57,\n",
       " 'L': 58,\n",
       " 'A': 59,\n",
       " ',': 60,\n",
       " '!': 61,\n",
       " 'J': 62,\n",
       " 'U': 63,\n",
       " '_': 64,\n",
       " '3': 65,\n",
       " '7': 66,\n",
       " '%': 67,\n",
       " '&': 68,\n",
       " ';': 69,\n",
       " '“': 70,\n",
       " '*': 71,\n",
       " '(': 72,\n",
       " 'V': 73,\n",
       " '8': 74,\n",
       " ')': 75,\n",
       " 'K': 76,\n",
       " '’': 77,\n",
       " '$': 78,\n",
       " 'Y': 79,\n",
       " '5': 80,\n",
       " '\\U000fe4e6': 81,\n",
       " '👉': 82,\n",
       " '4': 83,\n",
       " '”': 84,\n",
       " 'X': 85,\n",
       " '=': 86,\n",
       " '😒': 87,\n",
       " '+': 88,\n",
       " '📢': 89,\n",
       " '➡': 90,\n",
       " '️': 91,\n",
       " '🇺': 92,\n",
       " '🇸': 93,\n",
       " 'Q': 94,\n",
       " 'Z': 95,\n",
       " '–': 96,\n",
       " '—': 97,\n",
       " '▀': 98,\n",
       " '|': 99,\n",
       " '😊': 100,\n",
       " '👍': 101,\n",
       " '🏼': 102,\n",
       " '😎': 103,\n",
       " '😂': 104,\n",
       " '😩': 105,\n",
       " '~': 106,\n",
       " '\\xa0': 107,\n",
       " '🐘': 108,\n",
       " '😴': 109,\n",
       " '→': 110,\n",
       " '[': 111,\n",
       " ']': 112,\n",
       " '😏': 113,\n",
       " '‘': 114,\n",
       " '🙌': 115,\n",
       " '·': 116,\n",
       " '❤': 117,\n",
       " '😀': 118,\n",
       " '¯': 119,\n",
       " '‼': 120,\n",
       " '😍': 121,\n",
       " '・': 122,\n",
       " '😭': 123,\n",
       " '😉': 124,\n",
       " '😄': 125,\n",
       " '»': 126,\n",
       " '👏': 127,\n",
       " '💀': 128,\n",
       " '🏾': 129,\n",
       " '👎': 130,\n",
       " '✅': 131,\n",
       " '😑': 132,\n",
       " '🏻': 133,\n",
       " '✯': 134,\n",
       " '•': 135,\n",
       " '😡': 136,\n",
       " '🏿': 137,\n",
       " '💨': 138}"
      ]
     },
     "execution_count": 34,
     "metadata": {},
     "output_type": "execute_result"
    }
   ],
   "source": [
    "characterToIdx"
   ]
  },
  {
   "cell_type": "code",
   "execution_count": 35,
   "metadata": {},
   "outputs": [],
   "source": [
    "# create reverse characterToIdx dict idxToCharacter (in case we need it later)\n",
    "idxToCharacter = dict([(value, key) for (key, value) in characterToIdx.items()])"
   ]
  },
  {
   "cell_type": "code",
   "execution_count": 36,
   "metadata": {},
   "outputs": [
    {
     "name": "stdout",
     "output_type": "stream",
     "text": [
      "Total Characters after removing those that appear less than 3 times is: 139\n"
     ]
    }
   ],
   "source": [
    "print(\"Total Characters after removing those that appear less than {0} times is: {1}\".format(characterThreshold, len(characterToIdx.keys())))"
   ]
  },
  {
   "cell_type": "code",
   "execution_count": 37,
   "metadata": {},
   "outputs": [
    {
     "data": {
      "image/png": "[encoded data removed]",
      "text/plain": [
       "<Figure size 432x288 with 1 Axes>"
      ]
     },
     "metadata": {
      "needs_background": "light"
     },
     "output_type": "display_data"
    }
   ],
   "source": [
    "# let's find the distribution of sequence lengths to determine where we should set our max sequence\n",
    "rawSeqLength = [len(tweet) for tweet in cleanText]\n",
    "plt.hist(rawSeqLength, bins=16)\n",
    "plt.xlabel(\"Tweet Length\")\n",
    "plt.ylabel(\"Count\")\n",
    "plt.title(\"Histogram of Tweet Length in Characters\")\n",
    "plt.show()"
   ]
  },
  {
   "cell_type": "markdown",
   "metadata": {},
   "source": [
    "Interestingly - unlike most NLP projects where the max sequence length needs to be adjusted because of very long sequences in the training data - Twitter has a limit in length. This means we'll set our max sequence length to reflect the maximum Twitter length at the time of 140 characters (we will set to 120 since we removed spaces)."
   ]
  },
  {
   "cell_type": "code",
   "execution_count": 38,
   "metadata": {},
   "outputs": [
    {
     "name": "stdout",
     "output_type": "stream",
     "text": [
      "Our max sequence length for character model will be: 120\n"
     ]
    }
   ],
   "source": [
    "sequenceLength = 120\n",
    "print(\"Our max sequence length for character model will be: {}\".format(sequenceLength))"
   ]
  },
  {
   "cell_type": "code",
   "execution_count": 39,
   "metadata": {},
   "outputs": [
    {
     "name": "stdout",
     "output_type": "stream",
     "text": [
      "['Positive', 'Negative', 'Neutral']\n"
     ]
    },
    {
     "data": {
      "text/plain": [
       "{'Positive': 2, 'Neutral': 1, 'Negative': 0}"
      ]
     },
     "execution_count": 39,
     "metadata": {},
     "output_type": "execute_result"
    }
   ],
   "source": [
    "# let's also encode our labels, first verify possible values\n",
    "print(list(set(labels)))\n",
    "labelToIdx = {\"Positive\": 2, \"Neutral\": 1, \"Negative\": 0}\n",
    "labelToIdx"
   ]
  },
  {
   "cell_type": "code",
   "execution_count": 40,
   "metadata": {},
   "outputs": [],
   "source": [
    "# create one hot encoded labels (for model)\n",
    "encodedLabels = np.array([labelToIdx[label] for label in labels])\n",
    "oneHotEncodedLabels = to_categorical(encodedLabels)"
   ]
  },
  {
   "cell_type": "code",
   "execution_count": 41,
   "metadata": {},
   "outputs": [],
   "source": [
    "# let's encode our sequences! \n",
    "encodedSequences = list()\n",
    "for tweet in cleanText:\n",
    "    encodedSequences.append([characterToIdx[char] if char in characterToIdx.keys() else 1 for char in tweet])"
   ]
  },
  {
   "cell_type": "code",
   "execution_count": 42,
   "metadata": {},
   "outputs": [],
   "source": [
    "# now let's pad our sequences\n",
    "encodedSequences = sequence.pad_sequences(encodedSequences, maxlen=sequenceLength)           "
   ]
  },
  {
   "cell_type": "markdown",
   "metadata": {},
   "source": [
    "## Let's Create the Character Model"
   ]
  },
  {
   "cell_type": "code",
   "execution_count": null,
   "metadata": {},
   "outputs": [],
   "source": [
    "embedding_vector_length = 128\n",
    "\n",
    "vocabulary_size = len(characterToIdx)\n",
    "n_labels = len(labelToIdx)\n",
    "\n",
    "model = Sequential()\n",
    "model.add(Embedding(vocabulary_size, embedding_vector_length, input_length=sequenceLength, mask_zero=True))\n",
    "model.add(LSTM(units=500, recurrent_dropout=0.25, dropout=0.25))\n",
    "model.add(Dense(n_labels, activation=\"softmax\"))\n",
    "\n",
    "model.compile(optimizer=\"adam\", loss=\"categorical_crossentropy\", metrics=[\"accuracy\"])"
   ]
  },
  {
   "cell_type": "code",
   "execution_count": null,
   "metadata": {},
   "outputs": [],
   "source": [
    "model.summary()"
   ]
  },
  {
   "cell_type": "code",
   "execution_count": null,
   "metadata": {},
   "outputs": [],
   "source": [
    "checkpoint = ModelCheckpoint('TweetSentiment_Model_Character.h5', monitor='val_accuracy', verbose=1, save_best_only=True, mode='max')"
   ]
  },
  {
   "cell_type": "code",
   "execution_count": null,
   "metadata": {},
   "outputs": [],
   "source": [
    "history = model.fit(encodedSequences, oneHotEncodedLabels, validation_split=0.2, callbacks=[checkpoint], batch_size=8, epochs=1, shuffle=True, verbose=1)"
   ]
  },
  {
   "cell_type": "markdown",
   "metadata": {},
   "source": [
    "## Prep Data for BiGram Sequence Model"
   ]
  },
  {
   "cell_type": "code",
   "execution_count": 24,
   "metadata": {},
   "outputs": [],
   "source": [
    "def extractBiGrams(tweet):\n",
    "    biGramOutSeq = list()      # initialize our output list\n",
    "    if len(tweet) % 2 != 0:    # length is odd\n",
    "        tweet = tweet[:-1]     # chop last character off to make it even\n",
    "    currentIdx = 0             # initialize current position\n",
    "    for bigram in range(int(len(tweet) / 2)):                # for each bigram position (so half of total EVEN length)\n",
    "        biGramOutSeq.append(tweet[currentIdx:currentIdx + 2])# get current bigram, add to biGramOutSeq\n",
    "        currentIdx += 2                                      # increment to next biGram        \n",
    "    return biGramOutSeq"
   ]
  },
  {
   "cell_type": "code",
   "execution_count": 25,
   "metadata": {},
   "outputs": [],
   "source": [
    "# extract bigrams for each tweet sequence\n",
    "biGramSequencesRaw = [extractBiGrams(tweet) for tweet in cleanText]"
   ]
  },
  {
   "cell_type": "code",
   "execution_count": 27,
   "metadata": {},
   "outputs": [
    {
     "data": {
      "image/png": "[encoded data removed]",
      "text/plain": [
       "<Figure size 432x288 with 1 Axes>"
      ]
     },
     "metadata": {
      "needs_background": "light"
     },
     "output_type": "display_data"
    }
   ],
   "source": [
    "# let's find the distribution of sequence lengths in BIGRAMs to determine where we should set our max sequence\n",
    "biGramLength = [len(tweet) for tweet in biGramSequencesRaw]\n",
    "plt.hist(biGramLength, bins=16)\n",
    "plt.xlabel(\"Tweet Length\")\n",
    "plt.ylabel(\"Count\")\n",
    "plt.title(\"Histogram of Tweet Length in BiGrams\")\n",
    "plt.show()"
   ]
  },
  {
   "cell_type": "markdown",
   "metadata": {},
   "source": [
    "As we would expect it maxes out around half the length of total allowed Tweet size in characters (140). "
   ]
  },
  {
   "cell_type": "code",
   "execution_count": 28,
   "metadata": {},
   "outputs": [
    {
     "name": "stdout",
     "output_type": "stream",
     "text": [
      "Our max sequence length for bigram model will be: 60\n"
     ]
    }
   ],
   "source": [
    "biGramSequenceLength = 60\n",
    "print(\"Our max sequence length for bigram model will be: {}\".format(biGramSequenceLength))"
   ]
  }
 ],
 "metadata": {
  "kernelspec": {
   "display_name": "NLPTF2",
   "language": "python",
   "name": "nlptf2"
  },
  "language_info": {
   "codemirror_mode": {
    "name": "ipython",
    "version": 3
   },
   "file_extension": ".py",
   "mimetype": "text/x-python",
   "name": "python",
   "nbconvert_exporter": "python",
   "pygments_lexer": "ipython3",
   "version": "3.6.10"
  }
 },
 "nbformat": 4,
 "nbformat_minor": 2
}
