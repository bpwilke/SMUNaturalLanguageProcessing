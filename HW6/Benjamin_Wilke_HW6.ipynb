{
 "cells": [
  {
   "cell_type": "markdown",
   "metadata": {},
   "source": [
    "# Benjamin Wilke\n",
    "## NLP Homework 6"
   ]
  },
  {
   "cell_type": "code",
   "execution_count": 101,
   "metadata": {},
   "outputs": [],
   "source": [
    "import scipy\n",
    "import numpy as np\n",
    "import string\n",
    "from nltk.corpus import stopwords\n",
    "stopwords = stopwords.words('english')\n",
    "\n",
    "import matplotlib.pyplot as plt\n",
    "from tensorflow.keras import Sequential, Input\n",
    "from tensorflow.keras.layers import add\n",
    "from tensorflow.keras.layers import LSTM, SimpleRNN, Embedding, Dense, TimeDistributed, Dropout, Bidirectional, Lambda\n",
    "from tensorflow.keras.preprocessing import sequence\n",
    "from tensorflow.keras.callbacks import ModelCheckpoint\n",
    "\n",
    "from sklearn.metrics import confusion_matrix\n",
    "import pandas as pd\n",
    "from sklearn.metrics import precision_recall_fscore_support\n"
   ]
  },
  {
   "cell_type": "markdown",
   "metadata": {},
   "source": [
    "Submit all of your inputs and outputs and your code for this assignment, along with a brief written explanation of your findings."
   ]
  },
  {
   "cell_type": "markdown",
   "metadata": {},
   "source": [
    "### Question 1"
   ]
  },
  {
   "cell_type": "markdown",
   "metadata": {},
   "source": [
    "Evaluate text similarity of Amazon book search results by doing the following:\n",
    "\n",
    "Do a book search on Amazon. Manually copy the full book title (including subtitle) of each of the top 24 books listed in the first two pages of search results. \n",
    "\n",
    "In Python, run one of the text-similarity measures covered in this course, e.g., cosine similarity. Compare each of the book titles, pairwise, to every other one. \n",
    "\n",
    "Which two titles are the most similar to each other? Which are the most dissimilar? Where do they rank, among the first 24 results?"
   ]
  },
  {
   "cell_type": "markdown",
   "metadata": {},
   "source": [
    "### Amazon search for \"data driven\""
   ]
  },
  {
   "cell_type": "markdown",
   "metadata": {},
   "source": [
    "In an attempt to find this book: Data Driven: Harnessing Data and AI to Reinvent Customer Engagement\n",
    "\n",
    "https://www.amazon.com/Data-Driven-Harnessing-Reinvent-Engagement/dp/B07MMNCY2P/ref=sr_1_8?keywords=data+driven&qid=1584127022&s=books&sr=1-8"
   ]
  },
  {
   "cell_type": "code",
   "execution_count": 4,
   "metadata": {},
   "outputs": [],
   "source": [
    "# skipping the Sponsored (ads)\n",
    "titles_list = [\n",
    "    \"Driven by Data 2.0: A Practical Guide to Improve Instruction\",\n",
    "    \"Data-Driven Science and Engineering: Machine Learning, Dynamical Systems, and Control\",\n",
    "    \"Designing Data-Intensive Applications: The Big Ideas Behind Reliable, Scalable, and Maintainable Systems\",\n",
    "    \"Data-Driven Leadership\",\n",
    "    \"Creating a Data-Driven Organization: Practical Advice from the Trenches\",\n",
    "    \"Data Driven: Harnessing Data and AI to Reinvent Customer Engagement\",\n",
    "    \"Driven by Data: A Practical Guide to Improve Instruction\",\n",
    "    \"Data Driven\",\n",
    "    \"Data-Driven Marketing: The 15 Metrics Everyone in Marketing Should Know\",\n",
    "    \"Cribsheet: A Data-Driven Guide to Better, More Relaxed Parenting, from Birth to Preschool\",\n",
    "    \"A Winning Enterprise Data Strategy: Becoming A Data-Driven Organisation\",\n",
    "    \"The Power of Experiments: Decision Making in a Data-Driven World\",\n",
    "    \"Data Visualisation: A Handbook for Data Driven Design\",\n",
    "    \"Applications of Computational Intelligence in Data-Driven Trading\",\n",
    "    \"Letting Data Lead: How to Design, Analyze, and Respond to Classroom Assessment (Gain Actionable Insights Through Effective Assessment Methods and Data Interpretation)\",\n",
    "    \"Data Driven: How Performance Analytics Delivers Extraordinary Sales Results\",\n",
    "    \"Data Driven Marketing: Leverage Data to Increase Sales, Grow Profits, and Land More Customers\",\n",
    "    \"Data Driven Business Transformation: How Businesses Can Disrupt, Innovate and Stay Ahead of the Competition\",\n",
    "    \"Data Science from Scratch: Complete Guide to Learning the Data Science Process & What You Need to Know About: Analytics, Mining, Structures, Management, Driven, Privacy\",\n",
    "    \"The Data-Driven School: Collaborating to Improve Student Outcomes\",\n",
    "    \"Transforming Teaching and Learning Through Data-Driven Decision Making\",\n",
    "    \"Data Leverage: Unlocking the Surprising Growth Potential of Data Partnerships\",\n",
    "    \"Data Science for Fundraising: Build Data-Driven Solutions Using R\",\n",
    "    \"APPLYING STATISTICAL KNOWLEDGE IN DATA DRIVEN STRATEGIES AND DECISION MAKING\",\n",
    "    \"Marketing Analytics: Data-Driven Techniques with Microsoft Excel\"\n",
    "]"
   ]
  },
  {
   "cell_type": "code",
   "execution_count": 4,
   "metadata": {},
   "outputs": [
    {
     "data": {
      "text/plain": [
       "25"
      ]
     },
     "execution_count": 4,
     "metadata": {},
     "output_type": "execute_result"
    }
   ],
   "source": [
    "len(titles_list)"
   ]
  },
  {
   "cell_type": "code",
   "execution_count": 8,
   "metadata": {},
   "outputs": [],
   "source": [
    "def loadGloveModel(gloveFile):\n",
    "    print(\"Loading Glove Model\")\n",
    "    f = open(gloveFile,'r')\n",
    "    model = {}\n",
    "    for line in f:\n",
    "        splitLine = line.split()\n",
    "        word = splitLine[0]\n",
    "        embedding = np.array([float(val) for val in splitLine[1:]])\n",
    "        model[word] = embedding\n",
    "    print(\"Done.\",len(model),\" words loaded!\")\n",
    "    return model"
   ]
  },
  {
   "cell_type": "code",
   "execution_count": 130,
   "metadata": {},
   "outputs": [
    {
     "name": "stdout",
     "output_type": "stream",
     "text": [
      "Loading Glove Model\n",
      "Done. 400000  words loaded!\n"
     ]
    }
   ],
   "source": [
    "glovemodel = loadGloveModel(\"glove.6B.100d.txt\")"
   ]
  },
  {
   "cell_type": "code",
   "execution_count": 139,
   "metadata": {},
   "outputs": [],
   "source": [
    "def cosine_distance_wordembedding_method(s1, s2):\n",
    "    vector_1 = np.mean([glovemodel[word] for word in preprocess(s1) if word in glovemodel.keys()],axis=0)\n",
    "    vector_2 = np.mean([glovemodel[word] for word in preprocess(s2) if word in glovemodel.keys()],axis=0)\n",
    "    cosine = scipy.spatial.distance.cosine(vector_1, vector_2)\n",
    "    return round((1-cosine)*100,2)"
   ]
  },
  {
   "cell_type": "code",
   "execution_count": 136,
   "metadata": {},
   "outputs": [],
   "source": [
    "def preprocess(sent):\n",
    "    sent = ''.join([word for word in sent if word not in string.punctuation])     # remove punctuation \n",
    "    sent = sent.lower()                                                           # set to lowercase\n",
    "    sent = ' '.join([word for word in sent.split() if word not in stopwords])     # remove stopwords\n",
    "    sent = ' '.join([word for word in sent.split() if word.isalpha()])            # remove numbers\n",
    "    return [word for word in sent.split()]"
   ]
  },
  {
   "cell_type": "code",
   "execution_count": 144,
   "metadata": {},
   "outputs": [
    {
     "name": "stdout",
     "output_type": "stream",
     "text": [
      "Similarity between Search and Result 1: 85.79%\n",
      "Similarity between Search and Result 2: 72.77%\n",
      "Similarity between Search and Result 3: 81.41%\n",
      "Similarity between Search and Result 4: 45.67%\n",
      "Similarity between Search and Result 5: 70.08%\n",
      "Similarity between Search and Result 6: 100.0%\n",
      "Similarity between Search and Result 7: 85.79%\n",
      "Similarity between Search and Result 8: 86.8%\n",
      "Similarity between Search and Result 9: 73.17%\n",
      "Similarity between Search and Result 10: 61.3%\n",
      "Similarity between Search and Result 11: 78.03%\n",
      "Similarity between Search and Result 12: 70.25%\n",
      "Similarity between Search and Result 13: 83.75%\n",
      "Similarity between Search and Result 14: 74.7%\n",
      "Similarity between Search and Result 15: 82.95%\n",
      "Similarity between Search and Result 16: 82.31%\n",
      "Similarity between Search and Result 17: 83.5%\n",
      "Similarity between Search and Result 18: 82.62%\n",
      "Similarity between Search and Result 19: 85.44%\n",
      "Similarity between Search and Result 20: 58.79%\n",
      "Similarity between Search and Result 21: 68.73%\n",
      "Similarity between Search and Result 22: 84.45%\n",
      "Similarity between Search and Result 23: 78.84%\n",
      "Similarity between Search and Result 24: 83.9%\n",
      "Similarity between Search and Result 25: 69.88%\n"
     ]
    }
   ],
   "source": [
    "s1 = \"Data Driven: Harnessing Data and AI to Reinvent Customer Engagement\"\n",
    "\n",
    "for idx, each in enumerate(titles_list):\n",
    "    print(\"Similarity between Search and Result {0}: {1}%\".format(idx + 1, cosine_distance_wordembedding_method(s1, each)))"
   ]
  },
  {
   "cell_type": "markdown",
   "metadata": {},
   "source": [
    "### Question 2"
   ]
  },
  {
   "cell_type": "markdown",
   "metadata": {},
   "source": [
    "Now evaluate using a major search engine.\n",
    "\n",
    "Enter one of the book titles from question 1a into Google, Bing, or Yahoo!. Copy the capsule of the first organic result and the 20th organic result. Take web results only (i.e., not video results), and skip sponsored results. \n",
    "\n",
    "Run the same text similarity calculation that you used for question 1b on each of these capsules in comparison to the original query (book title). \n",
    "\n",
    "Which one has the highest similarity measure? "
   ]
  },
  {
   "cell_type": "code",
   "execution_count": 145,
   "metadata": {},
   "outputs": [],
   "source": [
    "searching = \"Data Driven: How Performance Analytics Delivers Extraordinary Sales Results\"\n",
    "capsule1 = \"Data Driven is a uniquely practical guide to increasing sales success, using the power of data analytics. Written by one of the world's leading authorities on the topic, this book shows you how to transform the corporate sales function by leveraging big data into better decision-making, more informed strategy, and increased effectiveness throughout the organization.\"\n",
    "capsule20 = \"Don’t be worry Data Driven: How Performance Analytics Delivers Extraordinary Sales Results can bring any time you are and not make your tote space or bookshelves’ grow to be full because you can have it inside your lovely laptop even cell phone.\""
   ]
  },
  {
   "cell_type": "code",
   "execution_count": 146,
   "metadata": {},
   "outputs": [
    {
     "data": {
      "text/plain": [
       "88.96"
      ]
     },
     "execution_count": 146,
     "metadata": {},
     "output_type": "execute_result"
    }
   ],
   "source": [
    "cosine_distance_wordembedding_method(searching, capsule1)"
   ]
  },
  {
   "cell_type": "code",
   "execution_count": 147,
   "metadata": {},
   "outputs": [
    {
     "data": {
      "text/plain": [
       "86.86"
      ]
     },
     "execution_count": 147,
     "metadata": {},
     "output_type": "execute_result"
    }
   ],
   "source": [
    "cosine_distance_wordembedding_method(searching, capsule20)"
   ]
  },
  {
   "cell_type": "markdown",
   "metadata": {},
   "source": [
    "### Question 3"
   ]
  },
  {
   "cell_type": "markdown",
   "metadata": {},
   "source": [
    "Take the dataset from Homework 4 and run it through an RNN, an LSTM, and a Bidirectional RNN.\n",
    "\n",
    "Report your accuracy, precision, and F1 for each class (‘O’ counts as a class, ‘PAD’ should be ignored).\n",
    "\n",
    "Turn in a Confusion Matrix of your results for each method."
   ]
  },
  {
   "cell_type": "markdown",
   "metadata": {},
   "source": [
    "### Prepare Data like Homework 4"
   ]
  },
  {
   "cell_type": "code",
   "execution_count": 49,
   "metadata": {},
   "outputs": [],
   "source": [
    "def load_doc(filename):\n",
    "    file = open(filename, 'r')\n",
    "    text = file.read().splitlines()\n",
    "    file.close()\n",
    "    return text"
   ]
  },
  {
   "cell_type": "code",
   "execution_count": 50,
   "metadata": {},
   "outputs": [],
   "source": [
    "raw_doc = load_doc(\"train.txt\")                                           #<-- load raw doc\n",
    "blank_lines = [idx for idx, each in enumerate(raw_doc) if each == '']     #<-- get index of each blank line"
   ]
  },
  {
   "cell_type": "code",
   "execution_count": 51,
   "metadata": {},
   "outputs": [],
   "source": [
    "# parses raw doc to return raw words and targets\n",
    "def getSentencesTargets(doc, blank_lines):\n",
    "    sentences = list()\n",
    "    targets = list()\n",
    "    \n",
    "    start_index = 0                                        #<-- start at index 0\n",
    "    end_index = blank_lines[0]                             #<-- set first end_index\n",
    "\n",
    "    for current_blank in range(len(blank_lines)):\n",
    "        sent_words = [word.split()[0].lower() for word in raw_doc[start_index:end_index]] #<-- isolate each word in the raw_doc range, lower()\n",
    "        sentences.append(sent_words)                                                      #<-- append sentence\n",
    "        target_classes = [word.split()[-1] for word in raw_doc[start_index:end_index]]    #<-- isolate each target in the raw_doc\n",
    "        targets.append(target_classes)                                                    #<-- append target\n",
    "        start_index = end_index + 1                        #<-- set next start_index, to last end_index + 1 (next line)\n",
    "        if current_blank < len(blank_lines) - 1:           #<-- if we're not at the end of the list (protect from out of range)\n",
    "            end_index = blank_lines[current_blank + 1]     #<-- then the new end_index is equal to next new end\n",
    "            \n",
    "    return sentences, targets            "
   ]
  },
  {
   "cell_type": "code",
   "execution_count": 52,
   "metadata": {},
   "outputs": [],
   "source": [
    "# function returns true if any character in a string is a number \n",
    "def hasNumbers(inputString):\n",
    "    return any(char.isdigit() for char in inputString)"
   ]
  },
  {
   "cell_type": "code",
   "execution_count": 53,
   "metadata": {},
   "outputs": [],
   "source": [
    "# cleans raw words and targets to remove non-words while also removing corresponding non-word targets\n",
    "def cleanSentencesTarget(sentences, targets):\n",
    "    remove_list = ['.',',','$','(',')','\\'s','\\\"',':','-','/','--','\\'',';']      #<-- specific characters we want to remove\n",
    "    \n",
    "    clean_sentences = list()\n",
    "    clean_targets = list()\n",
    "    \n",
    "    for sentence in range(len(sentences)):                      #<-- for each sentence\n",
    "        current_sentence = list()\n",
    "        current_target = list()                  \n",
    "        for idx, word in enumerate(sentences[sentence]):        #<-- examine each word\n",
    "            if word not in remove_list and not hasNumbers(word):#<-- if not in remove list or contains number\n",
    "                current_sentence.append(word)                   #<-- add word to current_sentence\n",
    "                current_target.append(targets[sentence][idx])   #<-- add corresponding target to current_target\n",
    "        if len(current_sentence) > 0:                           #<-- only add the current sentence if it's not null\n",
    "            clean_sentences.append(current_sentence)            #<-- append cleaned sentence \n",
    "            clean_targets.append(current_target)                #<-- append corresponding targets\n",
    "    \n",
    "    return clean_sentences, clean_targets"
   ]
  },
  {
   "cell_type": "code",
   "execution_count": 54,
   "metadata": {},
   "outputs": [],
   "source": [
    "# parse raw sentence and target lists\n",
    "sentences, targets = getSentencesTargets(raw_doc, blank_lines)\n",
    "\n",
    "# clean sentence and target lists\n",
    "clean_sentences, clean_targets = cleanSentencesTarget(sentences, targets)"
   ]
  },
  {
   "cell_type": "code",
   "execution_count": 57,
   "metadata": {},
   "outputs": [],
   "source": [
    "def getWordCounts(sentences):\n",
    "    word_counts = {}\n",
    "    for sent in sentences:\n",
    "        for w in sent:\n",
    "            word_counts[w] = word_counts.get(w, 0) + 1\n",
    "    return word_counts"
   ]
  },
  {
   "cell_type": "code",
   "execution_count": 58,
   "metadata": {},
   "outputs": [],
   "source": [
    "# get dictionary of all words and corresponding occurance counts\n",
    "word_counts = getWordCounts(clean_sentences)"
   ]
  },
  {
   "cell_type": "code",
   "execution_count": 60,
   "metadata": {},
   "outputs": [],
   "source": [
    "# create our word to index & index to word mapping \n",
    "def createWord2IndexIndex2Word(word_counts, word_count_threshold):\n",
    "    vocab = [w for w in word_counts if word_counts[w] >= word_count_threshold]\n",
    "    idxtoword = dict(enumerate(vocab, 3))\n",
    "    idxtoword[0] = '<PAD>'\n",
    "    idxtoword[1] = '<UNK>'\n",
    "    idxtoword[2] = '<START>'\n",
    "    wordtoix = dict([(value, key) for (key, value) in idxtoword.items()])\n",
    "    return wordtoix, idxtoword"
   ]
  },
  {
   "cell_type": "code",
   "execution_count": 61,
   "metadata": {},
   "outputs": [],
   "source": [
    "# create our target (Y) category mapping\n",
    "def createTarget2CategoryIndex(targets):\n",
    "    unique_targets = list()\n",
    "    for target in targets:                                                      #<-- get a list of all eligible target values\n",
    "        for each in target:\n",
    "            unique_targets.append(each)\n",
    "    targettoix = {k:idx + 1 for idx, k in enumerate(list(set(unique_targets)))} #<-- saves room for <PAD> at 0\n",
    "    targettoix[\"<PAD>\"] = 0                                                     #<-- creates <PAD> at 0\n",
    "    idxtotarget = dict([(value, key) for (key, value) in targettoix.items()])\n",
    "    return targettoix, idxtotarget"
   ]
  },
  {
   "cell_type": "code",
   "execution_count": 62,
   "metadata": {},
   "outputs": [],
   "source": [
    "# create our word to index & index to word mapping - include all words since most of our Named Entities don't occur very often\n",
    "wordToIndex, indexToWord = createWord2IndexIndex2Word(word_counts, 1)\n",
    "\n",
    "# create our target (Y) category mapping\n",
    "targetToIndex, IndexToTarget = createTarget2CategoryIndex(clean_targets)"
   ]
  },
  {
   "cell_type": "code",
   "execution_count": 67,
   "metadata": {},
   "outputs": [],
   "source": [
    "# returns sequence of index from word sentence input, if word doesn't exist sets to 1\n",
    "def sequenceFromSentenceList(sentence):\n",
    "    return [wordToIndex[word] if word in wordToIndex.keys() else 1 for word in sentence]"
   ]
  },
  {
   "cell_type": "code",
   "execution_count": 68,
   "metadata": {},
   "outputs": [],
   "source": [
    "# returns sequence of words from index sentence input\n",
    "def sentenceFromSequenceList(sequence):\n",
    "    return [indexToWord[idx] for idx in sequence]"
   ]
  },
  {
   "cell_type": "code",
   "execution_count": 69,
   "metadata": {},
   "outputs": [],
   "source": [
    "# return sequence of target index from target sequence\n",
    "def sequenceFromTargetSequence(targetsequence):\n",
    "    return [targetToIndex[target] for target in targetsequence]"
   ]
  },
  {
   "cell_type": "code",
   "execution_count": 70,
   "metadata": {},
   "outputs": [],
   "source": [
    "# let's encode our X and Y\n",
    "X_data = [sequenceFromSentenceList(sent) for sent in clean_sentences]\n",
    "y_data = [sequenceFromTargetSequence(target) for target in clean_targets]"
   ]
  },
  {
   "cell_type": "code",
   "execution_count": 71,
   "metadata": {},
   "outputs": [
    {
     "name": "stdout",
     "output_type": "stream",
     "text": [
      "The largest sequence length is: 75\n"
     ]
    },
    {
     "data": {
      "image/png": "[encoded data removed]",
      "text/plain": [
       "<Figure size 432x288 with 1 Axes>"
      ]
     },
     "metadata": {
      "needs_background": "light"
     },
     "output_type": "display_data"
    }
   ],
   "source": [
    "# lets look at sequence length\n",
    "seq_length = [len(sent) for sent in clean_sentences]\n",
    "print(\"The largest sequence length is: {}\".format(max(seq_length)))\n",
    "plt.hist(seq_length)\n",
    "plt.show()"
   ]
  },
  {
   "cell_type": "code",
   "execution_count": 72,
   "metadata": {},
   "outputs": [],
   "source": [
    "max_seq_length = 35\n",
    "# now let's pad out X_data and Y_data\n",
    "X = sequence.pad_sequences(X_data, maxlen=max_seq_length)\n",
    "y = sequence.pad_sequences(y_data, maxlen=max_seq_length)"
   ]
  },
  {
   "cell_type": "markdown",
   "metadata": {},
   "source": [
    "### Model RNN"
   ]
  },
  {
   "cell_type": "code",
   "execution_count": 78,
   "metadata": {},
   "outputs": [
    {
     "name": "stdout",
     "output_type": "stream",
     "text": [
      "Model: \"sequential_3\"\n",
      "_________________________________________________________________\n",
      "Layer (type)                 Output Shape              Param #   \n",
      "=================================================================\n",
      "embedding_3 (Embedding)      (None, 35, 100)           1715300   \n",
      "_________________________________________________________________\n",
      "simple_rnn (SimpleRNN)       (None, 35, 500)           300500    \n",
      "_________________________________________________________________\n",
      "time_distributed (TimeDistri (None, 35, 10)            5010      \n",
      "=================================================================\n",
      "Total params: 2,020,810\n",
      "Trainable params: 2,020,810\n",
      "Non-trainable params: 0\n",
      "_________________________________________________________________\n"
     ]
    }
   ],
   "source": [
    "embedding_vector_length = 100\n",
    "vocabulary_size = len(wordToIndex)\n",
    "n_tags = len(targetToIndex)\n",
    "\n",
    "model = Sequential()\n",
    "model.add(Embedding(vocabulary_size, embedding_vector_length, input_length=max_seq_length, mask_zero=True))\n",
    "model.add(SimpleRNN(500, return_sequences=True, recurrent_dropout=0.25, dropout=0.25))\n",
    "model.add(TimeDistributed(Dense(n_tags, activation=\"softmax\")))\n",
    "model.compile(optimizer=\"adam\", loss=\"sparse_categorical_crossentropy\", metrics=[\"accuracy\"])\n",
    "model.summary()"
   ]
  },
  {
   "cell_type": "code",
   "execution_count": 79,
   "metadata": {},
   "outputs": [],
   "source": [
    "X_train, X_val = X[4000:], X[:4000]\n",
    "y_train, y_val = y[4000:], y[:4000]"
   ]
  },
  {
   "cell_type": "code",
   "execution_count": 80,
   "metadata": {},
   "outputs": [],
   "source": [
    "checkpoint = ModelCheckpoint('SimpleRNNModel.h5', monitor='val_accuracy', verbose=1, save_best_only=True, mode='max')"
   ]
  },
  {
   "cell_type": "code",
   "execution_count": 81,
   "metadata": {},
   "outputs": [
    {
     "name": "stdout",
     "output_type": "stream",
     "text": [
      "Train on 10724 samples, validate on 4000 samples\n",
      "Epoch 1/3\n",
      "10712/10724 [============================>.] - ETA: 0s - loss: 0.1880 - accuracy: 0.8376\n",
      "Epoch 00001: val_accuracy improved from -inf to 0.88385, saving model to SimpleRNNModel.h5\n",
      "10724/10724 [==============================] - 63s 6ms/sample - loss: 0.1878 - accuracy: 0.8376 - val_loss: 0.1207 - val_accuracy: 0.8838\n",
      "Epoch 2/3\n",
      "10712/10724 [============================>.] - ETA: 0s - loss: 0.0716 - accuracy: 0.9330\n",
      "Epoch 00002: val_accuracy improved from 0.88385 to 0.90988, saving model to SimpleRNNModel.h5\n",
      "10724/10724 [==============================] - 65s 6ms/sample - loss: 0.0715 - accuracy: 0.9330 - val_loss: 0.1038 - val_accuracy: 0.9099\n",
      "Epoch 3/3\n",
      "10720/10724 [============================>.] - ETA: 0s - loss: 0.0472 - accuracy: 0.9558\n",
      "Epoch 00003: val_accuracy improved from 0.90988 to 0.91342, saving model to SimpleRNNModel.h5\n",
      "10724/10724 [==============================] - 61s 6ms/sample - loss: 0.0472 - accuracy: 0.9558 - val_loss: 0.0981 - val_accuracy: 0.9134\n"
     ]
    }
   ],
   "source": [
    "history = model.fit(X_train, y_train, validation_data=(X_val, y_val), callbacks=[checkpoint], batch_size=8, epochs=3, shuffle=True, verbose=1)"
   ]
  },
  {
   "cell_type": "code",
   "execution_count": 82,
   "metadata": {},
   "outputs": [],
   "source": [
    "what = model.predict_classes(X_val)"
   ]
  },
  {
   "cell_type": "code",
   "execution_count": 83,
   "metadata": {},
   "outputs": [],
   "source": [
    "#use this cell to EXCLUDE padding from confusion matrix\n",
    "count = 0\n",
    "total = 0\n",
    "pred = []\n",
    "actual = []\n",
    "\n",
    "for prediction in range(what.shape[0]):                        #<-- for each sequence\n",
    "    for i in range(max_seq_length):                            #<-- each item in sequence\n",
    "        if y_val[prediction][i]==0:                            #<-- if the corresponding y_val is <PAD> skip it\n",
    "            pass\n",
    "        else:                                                  #<-- otherwise\n",
    "            if y_val[prediction][i]==what[prediction][i]:      #<-- compare the prediction to y_val\n",
    "                count = count+1                                #<-- if the same increment count\n",
    "            total=total+1                                      #<-- update total eligible predictions (not <PAD>)\n",
    "            pred.append(what[prediction][i])                   #<-- add the prediction to list\n",
    "            actual.append(y_val[prediction][i])                #<-- add corresponding actual to a list"
   ]
  },
  {
   "cell_type": "code",
   "execution_count": 103,
   "metadata": {},
   "outputs": [
    {
     "name": "stdout",
     "output_type": "stream",
     "text": [
      "The raw accuracy of the Simple RNN model is 91.3422106431225%\n"
     ]
    }
   ],
   "source": [
    "print(f'The raw accuracy of the Simple RNN model is {(count / total) * 100}%')"
   ]
  },
  {
   "cell_type": "code",
   "execution_count": 95,
   "metadata": {},
   "outputs": [],
   "source": [
    "simpleRNNDF = pd.DataFrame(precision_recall_fscore_support(y_true=actual, y_pred=pred, average=None))"
   ]
  },
  {
   "cell_type": "code",
   "execution_count": 99,
   "metadata": {},
   "outputs": [],
   "source": [
    "simpleRNNDF.index = [\"Precision\", \"Recall\", \"FScore\", \"Support\"]\n",
    "simpleRNNDF.columns = [IndexToTarget[col] for col in list(set(actual))]"
   ]
  },
  {
   "cell_type": "code",
   "execution_count": 100,
   "metadata": {},
   "outputs": [
    {
     "data": {
      "text/html": [
       "<div>\n",
       "<style scoped>\n",
       "    .dataframe tbody tr th:only-of-type {\n",
       "        vertical-align: middle;\n",
       "    }\n",
       "\n",
       "    .dataframe tbody tr th {\n",
       "        vertical-align: top;\n",
       "    }\n",
       "\n",
       "    .dataframe thead th {\n",
       "        text-align: right;\n",
       "    }\n",
       "</style>\n",
       "<table border=\"1\" class=\"dataframe\">\n",
       "  <thead>\n",
       "    <tr style=\"text-align: right;\">\n",
       "      <th></th>\n",
       "      <th>I-LOC</th>\n",
       "      <th>I-ORG</th>\n",
       "      <th>I-MISC</th>\n",
       "      <th>B-MISC</th>\n",
       "      <th>O</th>\n",
       "      <th>B-PER</th>\n",
       "      <th>B-ORG</th>\n",
       "      <th>I-PER</th>\n",
       "      <th>B-LOC</th>\n",
       "    </tr>\n",
       "  </thead>\n",
       "  <tbody>\n",
       "    <tr>\n",
       "      <th>Precision</th>\n",
       "      <td>0.582524</td>\n",
       "      <td>0.673378</td>\n",
       "      <td>0.470284</td>\n",
       "      <td>0.759454</td>\n",
       "      <td>0.949427</td>\n",
       "      <td>0.795082</td>\n",
       "      <td>0.646778</td>\n",
       "      <td>0.861407</td>\n",
       "      <td>0.896498</td>\n",
       "    </tr>\n",
       "    <tr>\n",
       "      <th>Recall</th>\n",
       "      <td>0.598007</td>\n",
       "      <td>0.347174</td>\n",
       "      <td>0.566978</td>\n",
       "      <td>0.754697</td>\n",
       "      <td>0.981259</td>\n",
       "      <td>0.746920</td>\n",
       "      <td>0.543086</td>\n",
       "      <td>0.808539</td>\n",
       "      <td>0.788496</td>\n",
       "    </tr>\n",
       "    <tr>\n",
       "      <th>FScore</th>\n",
       "      <td>0.590164</td>\n",
       "      <td>0.458143</td>\n",
       "      <td>0.514124</td>\n",
       "      <td>0.757068</td>\n",
       "      <td>0.965081</td>\n",
       "      <td>0.770249</td>\n",
       "      <td>0.590414</td>\n",
       "      <td>0.834136</td>\n",
       "      <td>0.839036</td>\n",
       "    </tr>\n",
       "    <tr>\n",
       "      <th>Support</th>\n",
       "      <td>301.000000</td>\n",
       "      <td>867.000000</td>\n",
       "      <td>321.000000</td>\n",
       "      <td>958.000000</td>\n",
       "      <td>31855.000000</td>\n",
       "      <td>1948.000000</td>\n",
       "      <td>1497.000000</td>\n",
       "      <td>1499.000000</td>\n",
       "      <td>2208.000000</td>\n",
       "    </tr>\n",
       "  </tbody>\n",
       "</table>\n",
       "</div>"
      ],
      "text/plain": [
       "                I-LOC       I-ORG      I-MISC      B-MISC             O  \\\n",
       "Precision    0.582524    0.673378    0.470284    0.759454      0.949427   \n",
       "Recall       0.598007    0.347174    0.566978    0.754697      0.981259   \n",
       "FScore       0.590164    0.458143    0.514124    0.757068      0.965081   \n",
       "Support    301.000000  867.000000  321.000000  958.000000  31855.000000   \n",
       "\n",
       "                 B-PER        B-ORG        I-PER        B-LOC  \n",
       "Precision     0.795082     0.646778     0.861407     0.896498  \n",
       "Recall        0.746920     0.543086     0.808539     0.788496  \n",
       "FScore        0.770249     0.590414     0.834136     0.839036  \n",
       "Support    1948.000000  1497.000000  1499.000000  2208.000000  "
      ]
     },
     "execution_count": 100,
     "metadata": {},
     "output_type": "execute_result"
    }
   ],
   "source": [
    "simpleRNNDF"
   ]
  },
  {
   "cell_type": "code",
   "execution_count": 105,
   "metadata": {},
   "outputs": [],
   "source": [
    "def plot_confusion_matrix(cm, title='Confusion matrix', cmap=plt.cm.Blues):\n",
    "    plt.imshow(cm, interpolation='nearest', cmap=cmap)\n",
    "    plt.title(title)\n",
    "    plt.colorbar()\n",
    "    all_val = list(set(actual+pred))\n",
    "    tick_marks = np.arange(len(all_val))\n",
    "    plt.xticks(tick_marks,[IndexToTarget[i] for i in all_val], rotation=45)\n",
    "    plt.yticks(tick_marks,[IndexToTarget[i] for i in all_val])\n",
    "    plt.tight_layout()\n",
    "    plt.ylabel('True label')\n",
    "    plt.xlabel('Predicted label')"
   ]
  },
  {
   "cell_type": "code",
   "execution_count": 106,
   "metadata": {},
   "outputs": [
    {
     "name": "stdout",
     "output_type": "stream",
     "text": [
      "Confusion matrix, without normalization\n",
      "[[  180    13    10     3    67     4     2    14     8]\n",
      " [   27   301    25    15   393     9    25    29    43]\n",
      " [    3     3   182    15   105     2     1     8     2]\n",
      " [    0     3    12   723   140    23    25     6    26]\n",
      " [   58    38   127    63 31258   158    94    47    12]\n",
      " [    7    17     7    12   238  1455   145    50    17]\n",
      " [   18    18     9    77   370    90   813    26    76]\n",
      " [    4    43    10     1   155    38    19  1212    17]\n",
      " [   12    11     5    43   197    51   133    15  1741]]\n",
      "Normalized confusion matrix\n",
      "[[5.98e-01 4.32e-02 3.32e-02 9.97e-03 2.23e-01 1.33e-02 6.64e-03 4.65e-02\n",
      "  2.66e-02]\n",
      " [3.11e-02 3.47e-01 2.88e-02 1.73e-02 4.53e-01 1.04e-02 2.88e-02 3.34e-02\n",
      "  4.96e-02]\n",
      " [9.35e-03 9.35e-03 5.67e-01 4.67e-02 3.27e-01 6.23e-03 3.12e-03 2.49e-02\n",
      "  6.23e-03]\n",
      " [0.00e+00 3.13e-03 1.25e-02 7.55e-01 1.46e-01 2.40e-02 2.61e-02 6.26e-03\n",
      "  2.71e-02]\n",
      " [1.82e-03 1.19e-03 3.99e-03 1.98e-03 9.81e-01 4.96e-03 2.95e-03 1.48e-03\n",
      "  3.77e-04]\n",
      " [3.59e-03 8.73e-03 3.59e-03 6.16e-03 1.22e-01 7.47e-01 7.44e-02 2.57e-02\n",
      "  8.73e-03]\n",
      " [1.20e-02 1.20e-02 6.01e-03 5.14e-02 2.47e-01 6.01e-02 5.43e-01 1.74e-02\n",
      "  5.08e-02]\n",
      " [2.67e-03 2.87e-02 6.67e-03 6.67e-04 1.03e-01 2.54e-02 1.27e-02 8.09e-01\n",
      "  1.13e-02]\n",
      " [5.43e-03 4.98e-03 2.26e-03 1.95e-02 8.92e-02 2.31e-02 6.02e-02 6.79e-03\n",
      "  7.88e-01]]\n"
     ]
    },
    {
     "data": {
      "image/png": "[encoded data removed]",
      "text/plain": [
       "<Figure size 1440x720 with 2 Axes>"
      ]
     },
     "metadata": {
      "needs_background": "light"
     },
     "output_type": "display_data"
    },
    {
     "data": {
      "image/png": "[encoded data removed]",
      "text/plain": [
       "<Figure size 1440x720 with 2 Axes>"
      ]
     },
     "metadata": {
      "needs_background": "light"
     },
     "output_type": "display_data"
    }
   ],
   "source": [
    "# Compute confusion matrix\n",
    "cm = confusion_matrix(actual, pred)\n",
    "\n",
    "\n",
    "np.set_printoptions(precision=2)\n",
    "print('Confusion matrix, without normalization')\n",
    "print(cm)\n",
    "plt.figure(figsize=(20,10))\n",
    "plot_confusion_matrix(cm)\n",
    "\n",
    "# Normalize the confusion matrix by row (i.e by the number of samples\n",
    "# in each class)\n",
    "cm_normalized = cm.astype('float') / cm.sum(axis=1)[:, np.newaxis]\n",
    "print('Normalized confusion matrix')\n",
    "print(cm_normalized)\n",
    "plt.figure(figsize=(20,10))\n",
    "plot_confusion_matrix(cm_normalized, title='Normalized confusion matrix')\n",
    "from matplotlib.pyplot import figure\n",
    "\n",
    "plt.show()"
   ]
  },
  {
   "cell_type": "markdown",
   "metadata": {},
   "source": [
    "### Model LSTM"
   ]
  },
  {
   "cell_type": "code",
   "execution_count": 107,
   "metadata": {},
   "outputs": [
    {
     "name": "stdout",
     "output_type": "stream",
     "text": [
      "Model: \"sequential_4\"\n",
      "_________________________________________________________________\n",
      "Layer (type)                 Output Shape              Param #   \n",
      "=================================================================\n",
      "embedding_4 (Embedding)      (None, 35, 100)           1715300   \n",
      "_________________________________________________________________\n",
      "lstm (LSTM)                  (None, 35, 500)           1202000   \n",
      "_________________________________________________________________\n",
      "time_distributed_1 (TimeDist (None, 35, 10)            5010      \n",
      "=================================================================\n",
      "Total params: 2,922,310\n",
      "Trainable params: 2,922,310\n",
      "Non-trainable params: 0\n",
      "_________________________________________________________________\n"
     ]
    }
   ],
   "source": [
    "embedding_vector_length = 100\n",
    "vocabulary_size = len(wordToIndex)\n",
    "n_tags = len(targetToIndex)\n",
    "\n",
    "model = Sequential()\n",
    "model.add(Embedding(vocabulary_size, embedding_vector_length, input_length=max_seq_length, mask_zero=True))\n",
    "model.add(LSTM(500, return_sequences=True, recurrent_dropout=0.25, dropout=0.25))\n",
    "model.add(TimeDistributed(Dense(n_tags, activation=\"softmax\")))\n",
    "model.compile(optimizer=\"adam\", loss=\"sparse_categorical_crossentropy\", metrics=[\"accuracy\"])\n",
    "model.summary()"
   ]
  },
  {
   "cell_type": "code",
   "execution_count": 108,
   "metadata": {},
   "outputs": [],
   "source": [
    "checkpoint = ModelCheckpoint('LSTMModel.h5', monitor='val_accuracy', verbose=1, save_best_only=True, mode='max')"
   ]
  },
  {
   "cell_type": "code",
   "execution_count": 109,
   "metadata": {},
   "outputs": [
    {
     "name": "stdout",
     "output_type": "stream",
     "text": [
      "Train on 10724 samples, validate on 4000 samples\n",
      "Epoch 1/3\n",
      "10720/10724 [============================>.] - ETA: 0s - loss: 0.1622 - accuracy: 0.8462\n",
      "Epoch 00001: val_accuracy improved from -inf to 0.88513, saving model to SimpleRNNModel.h5\n",
      "10724/10724 [==============================] - 510s 48ms/sample - loss: 0.1622 - accuracy: 0.8462 - val_loss: 0.1148 - val_accuracy: 0.8851\n",
      "Epoch 2/3\n",
      "10720/10724 [============================>.] - ETA: 0s - loss: 0.0550 - accuracy: 0.9465\n",
      "Epoch 00002: val_accuracy improved from 0.88513 to 0.92080, saving model to SimpleRNNModel.h5\n",
      "10724/10724 [==============================] - 500s 47ms/sample - loss: 0.0550 - accuracy: 0.9465 - val_loss: 0.0816 - val_accuracy: 0.9208\n",
      "Epoch 3/3\n",
      "10720/10724 [============================>.] - ETA: 0s - loss: 0.0311 - accuracy: 0.9687\n",
      "Epoch 00003: val_accuracy did not improve from 0.92080\n",
      "10724/10724 [==============================] - 500s 47ms/sample - loss: 0.0311 - accuracy: 0.9687 - val_loss: 0.0846 - val_accuracy: 0.9165\n"
     ]
    }
   ],
   "source": [
    "history = model.fit(X_train, y_train, validation_data=(X_val, y_val), callbacks=[checkpoint], batch_size=8, epochs=3, shuffle=True, verbose=1)"
   ]
  },
  {
   "cell_type": "code",
   "execution_count": 111,
   "metadata": {},
   "outputs": [],
   "source": [
    "what = model.predict_classes(X_val)"
   ]
  },
  {
   "cell_type": "code",
   "execution_count": 112,
   "metadata": {},
   "outputs": [],
   "source": [
    "#use this cell to EXCLUDE padding from confusion matrix\n",
    "count = 0\n",
    "total = 0\n",
    "pred = []\n",
    "actual = []\n",
    "\n",
    "for prediction in range(what.shape[0]):                        #<-- for each sequence\n",
    "    for i in range(max_seq_length):                            #<-- each item in sequence\n",
    "        if y_val[prediction][i]==0:                            #<-- if the corresponding y_val is <PAD> skip it\n",
    "            pass\n",
    "        else:                                                  #<-- otherwise\n",
    "            if y_val[prediction][i]==what[prediction][i]:      #<-- compare the prediction to y_val\n",
    "                count = count+1                                #<-- if the same increment count\n",
    "            total=total+1                                      #<-- update total eligible predictions (not <PAD>)\n",
    "            pred.append(what[prediction][i])                   #<-- add the prediction to list\n",
    "            actual.append(y_val[prediction][i])                #<-- add corresponding actual to a list"
   ]
  },
  {
   "cell_type": "code",
   "execution_count": 113,
   "metadata": {},
   "outputs": [
    {
     "name": "stdout",
     "output_type": "stream",
     "text": [
      "The raw accuracy of the LSTM model is 91.64857432334635%\n"
     ]
    }
   ],
   "source": [
    "print(f'The raw accuracy of the LSTM model is {(count / total) * 100}%')"
   ]
  },
  {
   "cell_type": "code",
   "execution_count": 114,
   "metadata": {},
   "outputs": [
    {
     "data": {
      "text/html": [
       "<div>\n",
       "<style scoped>\n",
       "    .dataframe tbody tr th:only-of-type {\n",
       "        vertical-align: middle;\n",
       "    }\n",
       "\n",
       "    .dataframe tbody tr th {\n",
       "        vertical-align: top;\n",
       "    }\n",
       "\n",
       "    .dataframe thead th {\n",
       "        text-align: right;\n",
       "    }\n",
       "</style>\n",
       "<table border=\"1\" class=\"dataframe\">\n",
       "  <thead>\n",
       "    <tr style=\"text-align: right;\">\n",
       "      <th></th>\n",
       "      <th>I-LOC</th>\n",
       "      <th>I-ORG</th>\n",
       "      <th>I-MISC</th>\n",
       "      <th>B-MISC</th>\n",
       "      <th>O</th>\n",
       "      <th>B-PER</th>\n",
       "      <th>B-ORG</th>\n",
       "      <th>I-PER</th>\n",
       "      <th>B-LOC</th>\n",
       "    </tr>\n",
       "  </thead>\n",
       "  <tbody>\n",
       "    <tr>\n",
       "      <th>Precision</th>\n",
       "      <td>0.815900</td>\n",
       "      <td>0.377258</td>\n",
       "      <td>0.748252</td>\n",
       "      <td>0.890357</td>\n",
       "      <td>0.963380</td>\n",
       "      <td>0.827216</td>\n",
       "      <td>0.666412</td>\n",
       "      <td>0.84443</td>\n",
       "      <td>0.912538</td>\n",
       "    </tr>\n",
       "    <tr>\n",
       "      <th>Recall</th>\n",
       "      <td>0.647841</td>\n",
       "      <td>0.650519</td>\n",
       "      <td>0.666667</td>\n",
       "      <td>0.703549</td>\n",
       "      <td>0.969550</td>\n",
       "      <td>0.752053</td>\n",
       "      <td>0.581830</td>\n",
       "      <td>0.87992</td>\n",
       "      <td>0.817482</td>\n",
       "    </tr>\n",
       "    <tr>\n",
       "      <th>FScore</th>\n",
       "      <td>0.722222</td>\n",
       "      <td>0.477561</td>\n",
       "      <td>0.705107</td>\n",
       "      <td>0.786006</td>\n",
       "      <td>0.966455</td>\n",
       "      <td>0.787846</td>\n",
       "      <td>0.621255</td>\n",
       "      <td>0.86181</td>\n",
       "      <td>0.862398</td>\n",
       "    </tr>\n",
       "    <tr>\n",
       "      <th>Support</th>\n",
       "      <td>301.000000</td>\n",
       "      <td>867.000000</td>\n",
       "      <td>321.000000</td>\n",
       "      <td>958.000000</td>\n",
       "      <td>31855.000000</td>\n",
       "      <td>1948.000000</td>\n",
       "      <td>1497.000000</td>\n",
       "      <td>1499.00000</td>\n",
       "      <td>2208.000000</td>\n",
       "    </tr>\n",
       "  </tbody>\n",
       "</table>\n",
       "</div>"
      ],
      "text/plain": [
       "                I-LOC       I-ORG      I-MISC      B-MISC             O  \\\n",
       "Precision    0.815900    0.377258    0.748252    0.890357      0.963380   \n",
       "Recall       0.647841    0.650519    0.666667    0.703549      0.969550   \n",
       "FScore       0.722222    0.477561    0.705107    0.786006      0.966455   \n",
       "Support    301.000000  867.000000  321.000000  958.000000  31855.000000   \n",
       "\n",
       "                 B-PER        B-ORG       I-PER        B-LOC  \n",
       "Precision     0.827216     0.666412     0.84443     0.912538  \n",
       "Recall        0.752053     0.581830     0.87992     0.817482  \n",
       "FScore        0.787846     0.621255     0.86181     0.862398  \n",
       "Support    1948.000000  1497.000000  1499.00000  2208.000000  "
      ]
     },
     "execution_count": 114,
     "metadata": {},
     "output_type": "execute_result"
    }
   ],
   "source": [
    "LSTMDF = pd.DataFrame(precision_recall_fscore_support(y_true=actual, y_pred=pred, average=None))\n",
    "LSTMDF.index = [\"Precision\", \"Recall\", \"FScore\", \"Support\"]\n",
    "LSTMDF.columns = [IndexToTarget[col] for col in list(set(actual))]\n",
    "LSTMDF"
   ]
  },
  {
   "cell_type": "code",
   "execution_count": 115,
   "metadata": {},
   "outputs": [
    {
     "name": "stdout",
     "output_type": "stream",
     "text": [
      "Confusion matrix, without normalization\n",
      "[[  195    48     1     0    33     1     0    12    11]\n",
      " [   18   564     6     2   196     2    14    40    25]\n",
      " [    1    25   214     7    68     2     1     1     2]\n",
      " [    1    23    17   674   137    10    56     5    35]\n",
      " [   13   542    46    17 30885   117   160    60    15]\n",
      " [    0    58     1     4   242  1465    83    85    10]\n",
      " [    5    92     0    44   286   106   871    22    71]\n",
      " [    0    84     0     0    55    31     6  1319     4]\n",
      " [    6    59     1     9   157    37   116    18  1805]]\n",
      "Normalized confusion matrix\n",
      "[[6.48e-01 1.59e-01 3.32e-03 0.00e+00 1.10e-01 3.32e-03 0.00e+00 3.99e-02\n",
      "  3.65e-02]\n",
      " [2.08e-02 6.51e-01 6.92e-03 2.31e-03 2.26e-01 2.31e-03 1.61e-02 4.61e-02\n",
      "  2.88e-02]\n",
      " [3.12e-03 7.79e-02 6.67e-01 2.18e-02 2.12e-01 6.23e-03 3.12e-03 3.12e-03\n",
      "  6.23e-03]\n",
      " [1.04e-03 2.40e-02 1.77e-02 7.04e-01 1.43e-01 1.04e-02 5.85e-02 5.22e-03\n",
      "  3.65e-02]\n",
      " [4.08e-04 1.70e-02 1.44e-03 5.34e-04 9.70e-01 3.67e-03 5.02e-03 1.88e-03\n",
      "  4.71e-04]\n",
      " [0.00e+00 2.98e-02 5.13e-04 2.05e-03 1.24e-01 7.52e-01 4.26e-02 4.36e-02\n",
      "  5.13e-03]\n",
      " [3.34e-03 6.15e-02 0.00e+00 2.94e-02 1.91e-01 7.08e-02 5.82e-01 1.47e-02\n",
      "  4.74e-02]\n",
      " [0.00e+00 5.60e-02 0.00e+00 0.00e+00 3.67e-02 2.07e-02 4.00e-03 8.80e-01\n",
      "  2.67e-03]\n",
      " [2.72e-03 2.67e-02 4.53e-04 4.08e-03 7.11e-02 1.68e-02 5.25e-02 8.15e-03\n",
      "  8.17e-01]]\n"
     ]
    },
    {
     "data": {
      "image/png": "[encoded data removed]",
      "text/plain": [
       "<Figure size 1440x720 with 2 Axes>"
      ]
     },
     "metadata": {
      "needs_background": "light"
     },
     "output_type": "display_data"
    },
    {
     "data": {
      "image/png": "[encoded data removed]",
      "text/plain": [
       "<Figure size 1440x720 with 2 Axes>"
      ]
     },
     "metadata": {
      "needs_background": "light"
     },
     "output_type": "display_data"
    }
   ],
   "source": [
    "# Compute confusion matrix\n",
    "cm = confusion_matrix(actual, pred)\n",
    "\n",
    "\n",
    "np.set_printoptions(precision=2)\n",
    "print('Confusion matrix, without normalization')\n",
    "print(cm)\n",
    "plt.figure(figsize=(20,10))\n",
    "plot_confusion_matrix(cm)\n",
    "\n",
    "# Normalize the confusion matrix by row (i.e by the number of samples\n",
    "# in each class)\n",
    "cm_normalized = cm.astype('float') / cm.sum(axis=1)[:, np.newaxis]\n",
    "print('Normalized confusion matrix')\n",
    "print(cm_normalized)\n",
    "plt.figure(figsize=(20,10))\n",
    "plot_confusion_matrix(cm_normalized, title='Normalized confusion matrix')\n",
    "from matplotlib.pyplot import figure\n",
    "\n",
    "plt.show()"
   ]
  },
  {
   "cell_type": "markdown",
   "metadata": {},
   "source": [
    "### Model Bidirectional Simple RNN"
   ]
  },
  {
   "cell_type": "code",
   "execution_count": 117,
   "metadata": {},
   "outputs": [
    {
     "name": "stdout",
     "output_type": "stream",
     "text": [
      "Model: \"sequential_6\"\n",
      "_________________________________________________________________\n",
      "Layer (type)                 Output Shape              Param #   \n",
      "=================================================================\n",
      "embedding_6 (Embedding)      (None, 35, 100)           1715300   \n",
      "_________________________________________________________________\n",
      "bidirectional (Bidirectional (None, 35, 1000)          601000    \n",
      "_________________________________________________________________\n",
      "time_distributed_2 (TimeDist (None, 35, 10)            10010     \n",
      "=================================================================\n",
      "Total params: 2,326,310\n",
      "Trainable params: 2,326,310\n",
      "Non-trainable params: 0\n",
      "_________________________________________________________________\n"
     ]
    }
   ],
   "source": [
    "embedding_vector_length = 100\n",
    "vocabulary_size = len(wordToIndex)\n",
    "n_tags = len(targetToIndex)\n",
    "\n",
    "model = Sequential()\n",
    "model.add(Embedding(vocabulary_size, embedding_vector_length, input_length=max_seq_length, mask_zero=True))\n",
    "model.add(Bidirectional(SimpleRNN(500, return_sequences=True, recurrent_dropout=0.25, dropout=0.25)))\n",
    "model.add(TimeDistributed(Dense(n_tags, activation=\"softmax\")))\n",
    "model.compile(optimizer=\"adam\", loss=\"sparse_categorical_crossentropy\", metrics=[\"accuracy\"])\n",
    "model.summary()"
   ]
  },
  {
   "cell_type": "code",
   "execution_count": 118,
   "metadata": {},
   "outputs": [],
   "source": [
    "checkpoint = ModelCheckpoint('BidirectionalModel.h5', monitor='val_accuracy', verbose=1, save_best_only=True, mode='max')"
   ]
  },
  {
   "cell_type": "code",
   "execution_count": 119,
   "metadata": {},
   "outputs": [
    {
     "name": "stdout",
     "output_type": "stream",
     "text": [
      "Train on 10724 samples, validate on 4000 samples\n",
      "Epoch 1/3\n",
      "10720/10724 [============================>.] - ETA: 0s - loss: 0.1738 - accuracy: 0.8504\n",
      "Epoch 00001: val_accuracy improved from -inf to 0.88906, saving model to BidirectionalModel.h5\n",
      "10724/10724 [==============================] - 110s 10ms/sample - loss: 0.1738 - accuracy: 0.8505 - val_loss: 0.1274 - val_accuracy: 0.8891\n",
      "Epoch 2/3\n",
      "10720/10724 [============================>.] - ETA: 0s - loss: 0.0641 - accuracy: 0.9403\n",
      "Epoch 00002: val_accuracy improved from 0.88906 to 0.91234, saving model to BidirectionalModel.h5\n",
      "10724/10724 [==============================] - 114s 11ms/sample - loss: 0.0641 - accuracy: 0.9403 - val_loss: 0.0947 - val_accuracy: 0.9123\n",
      "Epoch 3/3\n",
      "10720/10724 [============================>.] - ETA: 0s - loss: 0.0412 - accuracy: 0.9609\n",
      "Epoch 00003: val_accuracy improved from 0.91234 to 0.92092, saving model to BidirectionalModel.h5\n",
      "10724/10724 [==============================] - 114s 11ms/sample - loss: 0.0412 - accuracy: 0.9609 - val_loss: 0.1002 - val_accuracy: 0.9209\n"
     ]
    }
   ],
   "source": [
    "history = model.fit(X_train, y_train, validation_data=(X_val, y_val), callbacks=[checkpoint], batch_size=8, epochs=3, shuffle=True, verbose=1)"
   ]
  },
  {
   "cell_type": "code",
   "execution_count": 120,
   "metadata": {},
   "outputs": [],
   "source": [
    "what = model.predict_classes(X_val)"
   ]
  },
  {
   "cell_type": "code",
   "execution_count": 121,
   "metadata": {},
   "outputs": [],
   "source": [
    "#use this cell to EXCLUDE padding from confusion matrix\n",
    "count = 0\n",
    "total = 0\n",
    "pred = []\n",
    "actual = []\n",
    "\n",
    "for prediction in range(what.shape[0]):                        #<-- for each sequence\n",
    "    for i in range(max_seq_length):                            #<-- each item in sequence\n",
    "        if y_val[prediction][i]==0:                            #<-- if the corresponding y_val is <PAD> skip it\n",
    "            pass\n",
    "        else:                                                  #<-- otherwise\n",
    "            if y_val[prediction][i]==what[prediction][i]:      #<-- compare the prediction to y_val\n",
    "                count = count+1                                #<-- if the same increment count\n",
    "            total=total+1                                      #<-- update total eligible predictions (not <PAD>)\n",
    "            pred.append(what[prediction][i])                   #<-- add the prediction to list\n",
    "            actual.append(y_val[prediction][i])                #<-- add corresponding actual to a list"
   ]
  },
  {
   "cell_type": "code",
   "execution_count": 122,
   "metadata": {},
   "outputs": [
    {
     "name": "stdout",
     "output_type": "stream",
     "text": [
      "The raw accuracy of the Bidirectional model is 92.09243981280454%\n"
     ]
    }
   ],
   "source": [
    "print(f'The raw accuracy of the Bidirectional model is {(count / total) * 100}%')"
   ]
  },
  {
   "cell_type": "code",
   "execution_count": 127,
   "metadata": {},
   "outputs": [
    {
     "data": {
      "text/html": [
       "<div>\n",
       "<style scoped>\n",
       "    .dataframe tbody tr th:only-of-type {\n",
       "        vertical-align: middle;\n",
       "    }\n",
       "\n",
       "    .dataframe tbody tr th {\n",
       "        vertical-align: top;\n",
       "    }\n",
       "\n",
       "    .dataframe thead th {\n",
       "        text-align: right;\n",
       "    }\n",
       "</style>\n",
       "<table border=\"1\" class=\"dataframe\">\n",
       "  <thead>\n",
       "    <tr style=\"text-align: right;\">\n",
       "      <th></th>\n",
       "      <th>I-LOC</th>\n",
       "      <th>I-ORG</th>\n",
       "      <th>I-MISC</th>\n",
       "      <th>B-MISC</th>\n",
       "      <th>O</th>\n",
       "      <th>B-PER</th>\n",
       "      <th>B-ORG</th>\n",
       "      <th>I-PER</th>\n",
       "      <th>B-LOC</th>\n",
       "    </tr>\n",
       "  </thead>\n",
       "  <tbody>\n",
       "    <tr>\n",
       "      <th>Precision</th>\n",
       "      <td>0.725738</td>\n",
       "      <td>0.535354</td>\n",
       "      <td>0.653430</td>\n",
       "      <td>0.886978</td>\n",
       "      <td>0.945264</td>\n",
       "      <td>0.855872</td>\n",
       "      <td>0.741259</td>\n",
       "      <td>0.921340</td>\n",
       "      <td>0.920957</td>\n",
       "    </tr>\n",
       "    <tr>\n",
       "      <th>Recall</th>\n",
       "      <td>0.571429</td>\n",
       "      <td>0.550173</td>\n",
       "      <td>0.563863</td>\n",
       "      <td>0.753653</td>\n",
       "      <td>0.985057</td>\n",
       "      <td>0.740760</td>\n",
       "      <td>0.566466</td>\n",
       "      <td>0.789193</td>\n",
       "      <td>0.802083</td>\n",
       "    </tr>\n",
       "    <tr>\n",
       "      <th>FScore</th>\n",
       "      <td>0.639405</td>\n",
       "      <td>0.542662</td>\n",
       "      <td>0.605351</td>\n",
       "      <td>0.814898</td>\n",
       "      <td>0.964751</td>\n",
       "      <td>0.794166</td>\n",
       "      <td>0.642181</td>\n",
       "      <td>0.850162</td>\n",
       "      <td>0.857420</td>\n",
       "    </tr>\n",
       "    <tr>\n",
       "      <th>Support</th>\n",
       "      <td>301.000000</td>\n",
       "      <td>867.000000</td>\n",
       "      <td>321.000000</td>\n",
       "      <td>958.000000</td>\n",
       "      <td>31855.000000</td>\n",
       "      <td>1948.000000</td>\n",
       "      <td>1497.000000</td>\n",
       "      <td>1499.000000</td>\n",
       "      <td>2208.000000</td>\n",
       "    </tr>\n",
       "  </tbody>\n",
       "</table>\n",
       "</div>"
      ],
      "text/plain": [
       "                I-LOC       I-ORG      I-MISC      B-MISC             O  \\\n",
       "Precision    0.725738    0.535354    0.653430    0.886978      0.945264   \n",
       "Recall       0.571429    0.550173    0.563863    0.753653      0.985057   \n",
       "FScore       0.639405    0.542662    0.605351    0.814898      0.964751   \n",
       "Support    301.000000  867.000000  321.000000  958.000000  31855.000000   \n",
       "\n",
       "                 B-PER        B-ORG        I-PER        B-LOC  \n",
       "Precision     0.855872     0.741259     0.921340     0.920957  \n",
       "Recall        0.740760     0.566466     0.789193     0.802083  \n",
       "FScore        0.794166     0.642181     0.850162     0.857420  \n",
       "Support    1948.000000  1497.000000  1499.000000  2208.000000  "
      ]
     },
     "execution_count": 127,
     "metadata": {},
     "output_type": "execute_result"
    }
   ],
   "source": [
    "BiDirDF = pd.DataFrame(precision_recall_fscore_support(y_true=actual, y_pred=pred, average=None))\n",
    "BiDirDF.index = [\"Precision\", \"Recall\", \"FScore\", \"Support\"]\n",
    "BiDirDF.columns = [IndexToTarget[col] for col in list(set(actual+pred))]\n",
    "BiDirDF.drop(columns=['<PAD>'])"
   ]
  },
  {
   "cell_type": "code",
   "execution_count": 128,
   "metadata": {},
   "outputs": [
    {
     "name": "stdout",
     "output_type": "stream",
     "text": [
      "Confusion matrix, without normalization\n",
      "[[    0     0     0     0     0     0     0     0     0     0]\n",
      " [    0   172    38     7     0    66     3     1     5     9]\n",
      " [    0    15   477    11     6   281     8    21    17    31]\n",
      " [    0     0    19   181     8   107     2     0     2     2]\n",
      " [    0     1    12    11   722   162     6    25     1    18]\n",
      " [    0    21   185    51    24 31379    95    76    10    14]\n",
      " [    1     2    32     2     3   355  1443    56    41    13]\n",
      " [    0     3    59     3    37   415    69   848     9    54]\n",
      " [    1     0    43    11     1   191    45    13  1183    11]\n",
      " [    0    23    26     0    13   240    15   104    16  1771]]\n",
      "Normalized confusion matrix\n",
      "[[     nan      nan      nan      nan      nan      nan      nan      nan\n",
      "       nan      nan]\n",
      " [0.00e+00 5.71e-01 1.26e-01 2.33e-02 0.00e+00 2.19e-01 9.97e-03 3.32e-03\n",
      "  1.66e-02 2.99e-02]\n",
      " [0.00e+00 1.73e-02 5.50e-01 1.27e-02 6.92e-03 3.24e-01 9.23e-03 2.42e-02\n",
      "  1.96e-02 3.58e-02]\n",
      " [0.00e+00 0.00e+00 5.92e-02 5.64e-01 2.49e-02 3.33e-01 6.23e-03 0.00e+00\n",
      "  6.23e-03 6.23e-03]\n",
      " [0.00e+00 1.04e-03 1.25e-02 1.15e-02 7.54e-01 1.69e-01 6.26e-03 2.61e-02\n",
      "  1.04e-03 1.88e-02]\n",
      " [0.00e+00 6.59e-04 5.81e-03 1.60e-03 7.53e-04 9.85e-01 2.98e-03 2.39e-03\n",
      "  3.14e-04 4.39e-04]\n",
      " [5.13e-04 1.03e-03 1.64e-02 1.03e-03 1.54e-03 1.82e-01 7.41e-01 2.87e-02\n",
      "  2.10e-02 6.67e-03]\n",
      " [0.00e+00 2.00e-03 3.94e-02 2.00e-03 2.47e-02 2.77e-01 4.61e-02 5.66e-01\n",
      "  6.01e-03 3.61e-02]\n",
      " [6.67e-04 0.00e+00 2.87e-02 7.34e-03 6.67e-04 1.27e-01 3.00e-02 8.67e-03\n",
      "  7.89e-01 7.34e-03]\n",
      " [0.00e+00 1.04e-02 1.18e-02 0.00e+00 5.89e-03 1.09e-01 6.79e-03 4.71e-02\n",
      "  7.25e-03 8.02e-01]]\n"
     ]
    },
    {
     "name": "stderr",
     "output_type": "stream",
     "text": [
      "/Users/bwilke/.conda/envs/NLPTF2/lib/python3.6/site-packages/ipykernel_launcher.py:13: RuntimeWarning: invalid value encountered in true_divide\n",
      "  del sys.path[0]\n"
     ]
    },
    {
     "data": {
      "image/png": "[encoded data removed]",
      "text/plain": [
       "<Figure size 1440x720 with 2 Axes>"
      ]
     },
     "metadata": {
      "needs_background": "light"
     },
     "output_type": "display_data"
    },
    {
     "data": {
      "image/png": "[encoded data removed]",
      "text/plain": [
       "<Figure size 1440x720 with 2 Axes>"
      ]
     },
     "metadata": {
      "needs_background": "light"
     },
     "output_type": "display_data"
    }
   ],
   "source": [
    "# Compute confusion matrix\n",
    "cm = confusion_matrix(actual, pred)\n",
    "\n",
    "\n",
    "np.set_printoptions(precision=2)\n",
    "print('Confusion matrix, without normalization')\n",
    "print(cm)\n",
    "plt.figure(figsize=(20,10))\n",
    "plot_confusion_matrix(cm)\n",
    "\n",
    "# Normalize the confusion matrix by row (i.e by the number of samples\n",
    "# in each class)\n",
    "cm_normalized = cm.astype('float') / cm.sum(axis=1)[:, np.newaxis]\n",
    "print('Normalized confusion matrix')\n",
    "print(cm_normalized)\n",
    "plt.figure(figsize=(20,10))\n",
    "plot_confusion_matrix(cm_normalized, title='Normalized confusion matrix')\n",
    "from matplotlib.pyplot import figure\n",
    "\n",
    "plt.show()"
   ]
  }
 ],
 "metadata": {
  "kernelspec": {
   "display_name": "NLPTF2",
   "language": "python",
   "name": "nlptf2"
  },
  "language_info": {
   "codemirror_mode": {
    "name": "ipython",
    "version": 3
   },
   "file_extension": ".py",
   "mimetype": "text/x-python",
   "name": "python",
   "nbconvert_exporter": "python",
   "pygments_lexer": "ipython3",
   "version": "3.6.10"
  }
 },
 "nbformat": 4,
 "nbformat_minor": 2
}
