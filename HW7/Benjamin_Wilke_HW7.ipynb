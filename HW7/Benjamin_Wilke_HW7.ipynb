{
 "cells": [
  {
   "cell_type": "markdown",
   "metadata": {},
   "source": [
    "## Benjamin Wilke\n",
    "## Homework 7"
   ]
  },
  {
   "cell_type": "markdown",
   "metadata": {},
   "source": [
    "Imagine you are an Engineer for Amazon Alexa.  You are given the task of understanding text input and classifying it.  Create a data set of sayings that fall into 2 Categories: Getting Directions and Playing Music.  Make sure you data set has at least 100 examples total.\n",
    "\n",
    "Example Playing Music:\n",
    "\"Play some Pantera on Spotify\"\n",
    "\n",
    "Example Directions:\n",
    "\"Where is the nearest Starbucks\""
   ]
  },
  {
   "cell_type": "markdown",
   "metadata": {},
   "source": [
    "### Q1 Given the following module that outputs a vector which represents your input sentence, transform your data into numbers."
   ]
  },
  {
   "cell_type": "code",
   "execution_count": 11,
   "metadata": {},
   "outputs": [],
   "source": [
    "import tensorflow as tf\n",
    "import tensorflow_hub as hub\n",
    "embed = hub.load(\"https://tfhub.dev/google/universal-sentence-encoder/3\")"
   ]
  },
  {
   "cell_type": "code",
   "execution_count": 1,
   "metadata": {},
   "outputs": [],
   "source": [
    "def load_doc(filename):\n",
    "    file = open(filename, 'r')\n",
    "    text = file.read().splitlines()\n",
    "    file.close()\n",
    "    return text"
   ]
  },
  {
   "cell_type": "code",
   "execution_count": 4,
   "metadata": {},
   "outputs": [],
   "source": [
    "musicDat = load_doc(\"alexa_commands_music.txt\")\n",
    "directionsDat = load_doc(\"alexa_commands_directions.txt\")"
   ]
  },
  {
   "cell_type": "code",
   "execution_count": 8,
   "metadata": {},
   "outputs": [
    {
     "name": "stdout",
     "output_type": "stream",
     "text": [
      "Length of Music is 50, Length of Directions is 50\n"
     ]
    }
   ],
   "source": [
    "print(f'Length of Music is {len(musicDat)}, Length of Directions is {len(directionsDat)}')"
   ]
  },
  {
   "cell_type": "code",
   "execution_count": 13,
   "metadata": {},
   "outputs": [],
   "source": [
    "musicEmbeddings = embed(musicDat)[\"outputs\"]\n",
    "directionsEmbeddings = embed(directionsDat)[\"outputs\"]"
   ]
  },
  {
   "cell_type": "code",
   "execution_count": 81,
   "metadata": {},
   "outputs": [
    {
     "name": "stdout",
     "output_type": "stream",
     "text": [
      "Shape of Music embeddings is (50, 512), Shape of Directions embeddings is (50, 512)\n"
     ]
    }
   ],
   "source": [
    "print(f'Shape of Music embeddings is {musicEmbeddings.shape}, Shape of Directions embeddings is {directionsEmbeddings.shape}')"
   ]
  },
  {
   "cell_type": "code",
   "execution_count": 59,
   "metadata": {},
   "outputs": [
    {
     "data": {
      "text/plain": [
       "<tf.Tensor: shape=(512,), dtype=float32, numpy=\n",
       "array([ 5.22320718e-02,  2.61381362e-02,  8.00965130e-02, -3.76225859e-02,\n",
       "        3.82037531e-03, -2.12687608e-02, -3.28792855e-02, -9.24806297e-03,\n",
       "       -6.00333363e-02, -6.85106590e-02,  2.56405678e-02,  7.38508254e-02,\n",
       "       -1.15180220e-02, -6.57589883e-02,  5.54771684e-02,  5.46576604e-02,\n",
       "       -2.80031227e-02, -1.91100743e-02,  3.91349979e-02, -7.16580749e-02,\n",
       "       -6.40604645e-02, -2.97386609e-02,  7.10452627e-03, -1.08329682e-02,\n",
       "       -8.00965205e-02,  7.53745064e-02,  7.15863928e-02,  4.38992158e-02,\n",
       "       -4.14860696e-02, -2.07935329e-04, -7.46235102e-02, -7.80304298e-02,\n",
       "        3.23309526e-02, -1.96301639e-02, -1.67930759e-02,  1.28326667e-02,\n",
       "        1.58166252e-02, -9.32152662e-03, -2.71972530e-02,  9.61224549e-03,\n",
       "       -2.25116801e-03,  3.01870704e-02,  2.45128591e-02, -6.49812296e-02,\n",
       "        1.42342374e-02,  4.53504510e-02,  8.68111476e-03,  1.28336893e-02,\n",
       "        8.04916397e-03,  5.92718497e-02,  6.64762259e-02, -5.79241477e-02,\n",
       "       -1.13411527e-03,  4.82779294e-02,  6.76848888e-02,  3.73601429e-02,\n",
       "        3.03103738e-02,  2.70334948e-02, -1.61653198e-02, -3.14214756e-03,\n",
       "       -5.38343526e-02, -6.67344183e-02,  2.11855806e-02, -3.14284349e-03,\n",
       "        5.27853183e-02,  3.95551845e-02, -6.96853921e-03,  2.83361021e-02,\n",
       "        2.18651742e-02, -8.12266394e-03, -6.46762252e-02, -4.07530405e-02,\n",
       "        4.31171954e-02, -1.31113855e-02, -2.24625953e-02,  1.88923236e-02,\n",
       "       -6.66628554e-02,  4.00117040e-02, -1.76868513e-02, -6.44241944e-02,\n",
       "       -8.55615176e-03, -4.30415086e-02, -6.43599555e-02,  5.44714965e-02,\n",
       "       -4.56610732e-02,  2.33793873e-02,  2.92713959e-02, -1.74870237e-03,\n",
       "       -7.50629902e-02, -3.38885672e-02,  9.89158079e-03, -8.21497384e-03,\n",
       "       -2.48982012e-03,  3.75609361e-02, -3.51655185e-02, -6.55030608e-02,\n",
       "        2.49081086e-02,  4.06667814e-02,  7.54346997e-02,  5.25248423e-02,\n",
       "        7.51208216e-02,  2.14256309e-02, -6.22484758e-02, -6.80093169e-02,\n",
       "       -5.65560125e-02, -5.28197177e-03, -2.45741084e-02,  2.62656230e-02,\n",
       "       -2.93787401e-02, -7.63017088e-02, -4.26406274e-03, -2.67110132e-02,\n",
       "       -4.32786206e-03,  3.02275661e-02,  4.64705704e-03,  6.97371364e-02,\n",
       "        9.08295810e-03,  5.00902571e-02, -6.61292970e-02,  3.91423441e-02,\n",
       "       -3.89233269e-02,  6.54696673e-02,  4.53086421e-02, -7.84046054e-02,\n",
       "       -5.55447936e-02, -1.91063099e-02, -3.56411189e-02, -8.00964907e-02,\n",
       "        5.92531897e-02,  3.55166607e-02,  2.44325660e-02, -7.30911270e-02,\n",
       "        1.54581815e-02,  4.70040143e-02, -7.32912719e-02,  3.21668126e-02,\n",
       "        3.41802165e-02,  6.22219890e-02,  2.69841868e-02, -5.21238446e-02,\n",
       "        2.87853163e-02, -4.85830754e-02,  7.03715831e-02, -8.00964758e-02,\n",
       "       -7.37994388e-02, -1.10881254e-02,  7.66269267e-02,  4.72070985e-02,\n",
       "       -1.40549531e-02,  7.38612860e-02,  6.92790002e-02,  1.80244558e-02,\n",
       "       -4.59552333e-02, -6.01714551e-02,  6.35919794e-02,  2.60678097e-03,\n",
       "       -5.83906919e-02, -7.71881640e-02, -3.60209160e-02,  6.98417649e-02,\n",
       "        2.93701757e-02,  4.27881107e-02, -5.72067052e-02,  4.28373087e-03,\n",
       "       -3.73772457e-02,  2.32617594e-02, -7.25392113e-03,  5.86436838e-02,\n",
       "       -4.53712903e-02,  2.98641734e-02,  7.02575743e-02,  1.32519361e-02,\n",
       "        1.67310014e-02,  5.42273596e-02, -3.94105213e-03, -7.17657804e-02,\n",
       "        2.75736023e-02, -6.96903989e-02,  1.99793410e-02,  5.11908829e-02,\n",
       "        5.48149124e-02, -4.43089046e-02,  1.61864664e-02, -7.22461641e-02,\n",
       "        5.68496957e-02,  1.97636243e-02, -5.85434176e-02, -2.66555548e-02,\n",
       "        7.99150392e-02,  6.47929385e-02,  2.91282609e-02,  3.91517244e-02,\n",
       "       -5.31103052e-02, -8.00959021e-02,  3.37101556e-02,  4.52903248e-02,\n",
       "       -5.79335261e-03,  5.93319871e-02, -7.66479177e-03, -2.44115349e-02,\n",
       "        5.63204929e-04, -3.05472016e-02, -4.42797020e-02,  3.70086432e-02,\n",
       "       -1.52326655e-02,  8.86968058e-03, -7.54214749e-02,  2.17194459e-03,\n",
       "       -1.48172174e-02, -6.08922951e-02, -6.01751469e-02, -6.02218807e-02,\n",
       "        4.34579961e-02, -3.98357958e-02, -5.50636947e-02,  1.25065660e-02,\n",
       "        6.42696470e-02, -2.43832637e-02, -7.48411044e-02, -1.86239686e-02,\n",
       "        4.09480594e-02,  4.74726819e-02, -1.58126447e-02, -3.58790383e-02,\n",
       "        8.00965130e-02, -8.16559047e-03, -1.13446005e-02, -3.18270549e-02,\n",
       "        1.86261151e-03, -1.05682975e-02,  6.97690025e-02,  5.04123559e-03,\n",
       "       -3.57373222e-03,  4.09868136e-02, -1.56606231e-02,  1.00132562e-02,\n",
       "        3.14843394e-02, -1.71340629e-02,  1.42552359e-02,  3.02000996e-02,\n",
       "       -4.32742620e-03, -3.43322754e-03, -4.85818135e-03, -3.98861524e-03,\n",
       "       -4.14201729e-02,  4.13788743e-02,  4.03638259e-02, -6.74118027e-02,\n",
       "        9.90130287e-03, -1.59681439e-02, -5.44382297e-02,  1.96912568e-02,\n",
       "       -1.06876595e-02, -3.20424773e-02,  1.76828500e-04, -2.20551435e-02,\n",
       "        2.58216709e-02, -4.93210182e-02,  1.02791581e-02, -2.23314948e-02,\n",
       "        4.73481640e-02, -2.61207800e-02, -3.11395414e-02,  6.52924180e-02,\n",
       "        1.26126558e-02,  2.63244435e-02, -1.49052497e-02, -3.50412391e-02,\n",
       "        4.63874079e-02,  4.15415913e-02,  4.67963656e-03, -2.22633667e-02,\n",
       "       -3.82223204e-02,  5.66717200e-02,  1.32683283e-02,  5.06835766e-02,\n",
       "        4.02880199e-02,  7.71007761e-02,  8.00759569e-02,  4.57801810e-03,\n",
       "       -1.83815584e-02, -1.66154560e-02, -5.73539287e-02,  5.72102666e-02,\n",
       "        5.00822514e-02, -8.00965205e-02,  1.61589701e-02,  6.59695268e-02,\n",
       "        4.43716943e-02,  1.76442843e-02, -2.91071683e-02, -2.18368173e-02,\n",
       "        7.49203637e-02,  4.76946719e-02,  7.42297545e-02, -1.53841265e-02,\n",
       "        6.19308650e-02, -7.19121331e-03, -4.58613038e-02, -6.99765459e-02,\n",
       "        1.53927281e-02,  5.89439599e-03, -4.71416302e-02,  2.42159422e-02,\n",
       "        9.91496630e-03,  3.91260944e-02,  2.53368709e-02,  5.39066531e-02,\n",
       "       -5.34274504e-02, -3.33413631e-02, -1.47991655e-02,  7.37930164e-02,\n",
       "        6.76824003e-02,  6.19125776e-02,  3.87453176e-02,  3.84633578e-02,\n",
       "        4.47094515e-02,  7.53719499e-03, -2.35058386e-02, -1.51066091e-02,\n",
       "        8.00931677e-02, -3.71431746e-02,  3.01057473e-02,  7.99782872e-02,\n",
       "        3.54272537e-02,  1.75671466e-02,  5.52304462e-02, -5.13452105e-02,\n",
       "       -1.54791307e-02,  6.57545626e-02, -5.53610325e-02,  6.62592128e-02,\n",
       "        1.30422041e-02,  5.04618362e-02, -3.41349356e-02,  4.86034267e-02,\n",
       "        3.79271582e-02, -4.70456034e-02,  2.27763993e-03, -5.81595668e-05,\n",
       "        7.96145499e-02,  7.88643956e-02,  2.66880654e-02, -1.96650457e-02,\n",
       "        5.01321182e-02,  3.21671031e-02, -3.99975069e-02, -2.31095105e-02,\n",
       "        7.10833445e-02, -5.75849824e-02,  4.87518460e-02,  6.91126585e-02,\n",
       "       -3.46854739e-02,  7.53346970e-03, -2.26505119e-02, -2.53268201e-02,\n",
       "       -7.94118270e-02,  2.30889954e-02,  4.06100489e-02,  2.44835559e-02,\n",
       "        2.44295429e-02, -3.16969939e-02,  7.32603595e-02,  5.52581847e-02,\n",
       "        3.03605851e-02, -2.31089257e-02,  8.59688502e-03, -4.18852940e-02,\n",
       "        3.81123275e-02, -4.86810915e-02, -6.72805682e-02, -6.77564368e-02,\n",
       "        3.56810950e-02,  4.35891934e-02, -1.54467449e-02, -8.51003337e-04,\n",
       "        4.86925691e-02,  2.27637682e-02,  1.75270475e-02, -6.70893490e-02,\n",
       "        4.45982069e-02, -5.75836189e-02, -3.72324288e-02,  6.89367056e-02,\n",
       "        6.15041330e-03,  2.93737818e-02, -4.50663753e-02, -4.35223468e-02,\n",
       "        5.07948473e-02,  5.89189343e-02,  3.37838009e-02,  4.53319885e-02,\n",
       "       -4.18621451e-02, -2.48528011e-02,  7.50010386e-02, -3.44475061e-02,\n",
       "       -6.42008558e-02,  1.21274730e-02, -2.82037873e-02,  6.14960641e-02,\n",
       "        4.12108451e-02, -5.69955781e-02, -5.86875016e-03,  7.05621094e-02,\n",
       "       -5.27634174e-02,  2.57505886e-02,  7.88885131e-02, -4.40842323e-02,\n",
       "        3.47592793e-02,  2.91663669e-02,  2.74721812e-02,  6.09943531e-02,\n",
       "       -2.97303759e-02, -1.68194212e-02, -3.53035033e-02,  3.02115362e-02,\n",
       "        4.59263567e-03,  1.02801179e-03, -4.94545419e-03,  3.24068740e-02,\n",
       "        9.82832443e-03,  3.92922573e-02, -3.64821330e-02, -5.07732434e-03,\n",
       "       -5.44618033e-02,  4.07150462e-02,  1.26217045e-02, -1.63381714e-02,\n",
       "       -5.89411780e-02,  5.14418557e-02,  4.88633849e-02, -1.44068263e-02,\n",
       "        5.44005781e-02,  1.33393081e-02, -4.65977825e-02, -8.50752275e-03,\n",
       "       -3.63618061e-02, -2.73426902e-02,  1.03112329e-02,  1.67494116e-03,\n",
       "       -2.26809699e-02,  3.07680555e-02,  4.86017764e-02,  5.42380428e-03,\n",
       "       -5.28489910e-02, -1.93159468e-02,  1.66235014e-03,  5.10987751e-02,\n",
       "        2.77312808e-02, -6.23978600e-02, -6.49846867e-02,  3.77627090e-02,\n",
       "        5.19434083e-03, -7.93130994e-02,  5.92292063e-02, -4.79902774e-02,\n",
       "       -8.00962970e-02, -5.43776229e-02,  4.14211415e-02,  3.76805738e-02,\n",
       "       -2.30908971e-02, -1.95273161e-02,  7.00085387e-02, -3.67382206e-02,\n",
       "       -1.39964567e-02,  6.34941682e-02, -1.21530192e-02,  9.34660528e-03,\n",
       "       -7.05633610e-02, -4.58111539e-02,  2.98243426e-02, -3.13531496e-02,\n",
       "        6.07836358e-02, -5.14454357e-02,  6.02707965e-03, -1.24073084e-02,\n",
       "        5.89334667e-02, -2.07862929e-02, -6.56164140e-02, -7.97121823e-02,\n",
       "        5.23857735e-02,  3.67049165e-02, -5.80638982e-02,  3.64454091e-02,\n",
       "       -6.33688569e-02, -2.21122298e-02, -3.55851352e-02,  6.65575918e-03,\n",
       "        6.10329174e-02, -7.56748617e-02,  8.24540947e-03, -4.69935164e-02,\n",
       "       -1.01735536e-02,  5.71193583e-02, -2.89780144e-02, -3.93718854e-02,\n",
       "        1.78978052e-02, -1.44406334e-02,  3.69195119e-02, -3.18410918e-02,\n",
       "       -6.64379373e-02, -7.90507793e-02,  2.26257797e-02,  3.83366719e-02,\n",
       "        4.26827669e-02,  2.06068810e-02,  1.64728779e-02,  6.32264465e-02,\n",
       "        1.21238278e-02,  1.07049933e-02, -6.18452728e-02,  3.26399058e-02],\n",
       "      dtype=float32)>"
      ]
     },
     "execution_count": 59,
     "metadata": {},
     "output_type": "execute_result"
    }
   ],
   "source": [
    "musicEmbeddings[1]"
   ]
  },
  {
   "cell_type": "markdown",
   "metadata": {},
   "source": [
    "### Q2: Take your numbers from Q1 and create 2 classifiers of any type.  What is your best guess for the accuracy of your models. (Don't forget to use good data science practices!)"
   ]
  },
  {
   "cell_type": "markdown",
   "metadata": {},
   "source": [
    "I'm going to run a Logistic Regression and a Random Forest on this dataset. My best guess is that these will be VERY easy to classify correctly. There are features in each that are VERY distinct - for example all of the music related commands include the word \"play\", while all of the direction related commands include a word like \"how\", \"what\", \"which\", and \"are\"."
   ]
  },
  {
   "cell_type": "code",
   "execution_count": 76,
   "metadata": {},
   "outputs": [],
   "source": [
    "import numpy as np\n",
    "from sklearn.model_selection import cross_val_score\n",
    "from sklearn.model_selection import cross_val_predict\n",
    "from sklearn.linear_model import LogisticRegression\n",
    "from sklearn.preprocessing import StandardScaler\n",
    "from sklearn.metrics import confusion_matrix\n",
    "from sklearn.ensemble import RandomForestClassifier"
   ]
  },
  {
   "cell_type": "code",
   "execution_count": 83,
   "metadata": {},
   "outputs": [],
   "source": [
    "joinedDats = np.vstack((musicEmbeddings, directionsEmbeddings))"
   ]
  },
  {
   "cell_type": "code",
   "execution_count": 19,
   "metadata": {},
   "outputs": [
    {
     "data": {
      "text/plain": [
       "(100, 512)"
      ]
     },
     "execution_count": 19,
     "metadata": {},
     "output_type": "execute_result"
    }
   ],
   "source": [
    "joinedDats.shape"
   ]
  },
  {
   "cell_type": "code",
   "execution_count": 66,
   "metadata": {
    "collapsed": true
   },
   "outputs": [],
   "source": [
    "# let's scale the data, why not?\n",
    "scaler = StandardScaler()\n",
    "joinedDatsScaled = scaler.fit_transform(joinedDats)"
   ]
  },
  {
   "cell_type": "code",
   "execution_count": 46,
   "metadata": {},
   "outputs": [],
   "source": [
    "# let's create our labels, music = 1, directions = 0\n",
    "labels = np.stack((np.ones((50,), dtype=int), np.zeros((50,), dtype=int)), axis=0).reshape(100,)"
   ]
  },
  {
   "cell_type": "code",
   "execution_count": 58,
   "metadata": {},
   "outputs": [
    {
     "data": {
      "text/plain": [
       "(100,)"
      ]
     },
     "execution_count": 58,
     "metadata": {},
     "output_type": "execute_result"
    }
   ],
   "source": [
    "labels.shape"
   ]
  },
  {
   "cell_type": "code",
   "execution_count": 60,
   "metadata": {},
   "outputs": [
    {
     "data": {
      "text/plain": [
       "array([1, 1, 1, 1, 1, 1, 1, 1, 1, 1, 1, 1, 1, 1, 1, 1, 1, 1, 1, 1, 1, 1,\n",
       "       1, 1, 1, 1, 1, 1, 1, 1, 1, 1, 1, 1, 1, 1, 1, 1, 1, 1, 1, 1, 1, 1,\n",
       "       1, 1, 1, 1, 1, 1, 0, 0, 0, 0, 0, 0, 0, 0, 0, 0, 0, 0, 0, 0, 0, 0,\n",
       "       0, 0, 0, 0, 0, 0, 0, 0, 0, 0, 0, 0, 0, 0, 0, 0, 0, 0, 0, 0, 0, 0,\n",
       "       0, 0, 0, 0, 0, 0, 0, 0, 0, 0, 0, 0])"
      ]
     },
     "execution_count": 60,
     "metadata": {},
     "output_type": "execute_result"
    }
   ],
   "source": [
    "labels"
   ]
  },
  {
   "cell_type": "code",
   "execution_count": 68,
   "metadata": {},
   "outputs": [],
   "source": [
    "log_reg = LogisticRegression()\n",
    "labels_pred = cross_val_score(log_reg, joinedDatsScaled, labels, cv=10)"
   ]
  },
  {
   "cell_type": "code",
   "execution_count": 75,
   "metadata": {},
   "outputs": [
    {
     "name": "stdout",
     "output_type": "stream",
     "text": [
      "The Logistic Regression accuracy is 100.0%\n"
     ]
    }
   ],
   "source": [
    "print(\"The Logistic Regression accuracy is {}%\".format(labels_pred.mean() * 100))"
   ]
  },
  {
   "cell_type": "code",
   "execution_count": 78,
   "metadata": {},
   "outputs": [],
   "source": [
    "rnd_clf = RandomForestClassifier()\n",
    "labels_rnd_pred = cross_val_score(rnd_clf, joinedDatsScaled, labels, cv=10)"
   ]
  },
  {
   "cell_type": "code",
   "execution_count": 80,
   "metadata": {},
   "outputs": [
    {
     "name": "stdout",
     "output_type": "stream",
     "text": [
      "The Random Forest accuracy is 100.0%\n"
     ]
    }
   ],
   "source": [
    "print(\"The Random Forest accuracy is {}%\".format(labels_rnd_pred.mean() * 100))"
   ]
  }
 ],
 "metadata": {
  "kernelspec": {
   "display_name": "NLPTF2",
   "language": "python",
   "name": "nlptf2"
  },
  "language_info": {
   "codemirror_mode": {
    "name": "ipython",
    "version": 3
   },
   "file_extension": ".py",
   "mimetype": "text/x-python",
   "name": "python",
   "nbconvert_exporter": "python",
   "pygments_lexer": "ipython3",
   "version": "3.6.10"
  }
 },
 "nbformat": 4,
 "nbformat_minor": 2
}
